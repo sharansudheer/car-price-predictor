{
 "cells": [
  {
   "cell_type": "code",
   "execution_count": 63,
   "metadata": {},
   "outputs": [],
   "source": [
    "import pandas as pd\n",
    "import numpy as np"
   ]
  },
  {
   "cell_type": "code",
   "execution_count": null,
   "metadata": {},
   "outputs": [],
   "source": [
    "# TODO \n",
    "\n",
    "# Restructure the entire project.\n",
    "\n",
    "#Ground 0, point of return"
   ]
  },
  {
   "cell_type": "code",
   "execution_count": 64,
   "metadata": {
    "scrolled": true
   },
   "outputs": [
    {
     "data": {
      "text/html": [
       "<div>\n",
       "<style scoped>\n",
       "    .dataframe tbody tr th:only-of-type {\n",
       "        vertical-align: middle;\n",
       "    }\n",
       "\n",
       "    .dataframe tbody tr th {\n",
       "        vertical-align: top;\n",
       "    }\n",
       "\n",
       "    .dataframe thead th {\n",
       "        text-align: right;\n",
       "    }\n",
       "</style>\n",
       "<table border=\"1\" class=\"dataframe\">\n",
       "  <thead>\n",
       "    <tr style=\"text-align: right;\">\n",
       "      <th></th>\n",
       "      <th>Name</th>\n",
       "      <th>Location</th>\n",
       "      <th>Year</th>\n",
       "      <th>Kilometers_Driven</th>\n",
       "      <th>Fuel_Type</th>\n",
       "      <th>Transmission</th>\n",
       "      <th>Owner_Type</th>\n",
       "      <th>Mileage</th>\n",
       "      <th>Engine</th>\n",
       "      <th>Power</th>\n",
       "      <th>Seats</th>\n",
       "      <th>Price</th>\n",
       "    </tr>\n",
       "  </thead>\n",
       "  <tbody>\n",
       "    <tr>\n",
       "      <th>0</th>\n",
       "      <td>Maruti Wagon R LXI CNG</td>\n",
       "      <td>Mumbai</td>\n",
       "      <td>2010</td>\n",
       "      <td>72000</td>\n",
       "      <td>CNG</td>\n",
       "      <td>Manual</td>\n",
       "      <td>First</td>\n",
       "      <td>26.6 km/kg</td>\n",
       "      <td>998 CC</td>\n",
       "      <td>58.16 bhp</td>\n",
       "      <td>5.0</td>\n",
       "      <td>1.75</td>\n",
       "    </tr>\n",
       "    <tr>\n",
       "      <th>1</th>\n",
       "      <td>Hyundai Creta 1.6 CRDi SX Option</td>\n",
       "      <td>Pune</td>\n",
       "      <td>2015</td>\n",
       "      <td>41000</td>\n",
       "      <td>Diesel</td>\n",
       "      <td>Manual</td>\n",
       "      <td>First</td>\n",
       "      <td>19.67 kmpl</td>\n",
       "      <td>1582 CC</td>\n",
       "      <td>126.2 bhp</td>\n",
       "      <td>5.0</td>\n",
       "      <td>12.50</td>\n",
       "    </tr>\n",
       "    <tr>\n",
       "      <th>2</th>\n",
       "      <td>Honda Jazz V</td>\n",
       "      <td>Chennai</td>\n",
       "      <td>2011</td>\n",
       "      <td>46000</td>\n",
       "      <td>Petrol</td>\n",
       "      <td>Manual</td>\n",
       "      <td>First</td>\n",
       "      <td>18.2 kmpl</td>\n",
       "      <td>1199 CC</td>\n",
       "      <td>88.7 bhp</td>\n",
       "      <td>5.0</td>\n",
       "      <td>4.50</td>\n",
       "    </tr>\n",
       "    <tr>\n",
       "      <th>3</th>\n",
       "      <td>Maruti Ertiga VDI</td>\n",
       "      <td>Chennai</td>\n",
       "      <td>2012</td>\n",
       "      <td>87000</td>\n",
       "      <td>Diesel</td>\n",
       "      <td>Manual</td>\n",
       "      <td>First</td>\n",
       "      <td>20.77 kmpl</td>\n",
       "      <td>1248 CC</td>\n",
       "      <td>88.76 bhp</td>\n",
       "      <td>7.0</td>\n",
       "      <td>6.00</td>\n",
       "    </tr>\n",
       "    <tr>\n",
       "      <th>4</th>\n",
       "      <td>Audi A4 New 2.0 TDI Multitronic</td>\n",
       "      <td>Coimbatore</td>\n",
       "      <td>2013</td>\n",
       "      <td>40670</td>\n",
       "      <td>Diesel</td>\n",
       "      <td>Automatic</td>\n",
       "      <td>Second</td>\n",
       "      <td>15.2 kmpl</td>\n",
       "      <td>1968 CC</td>\n",
       "      <td>140.8 bhp</td>\n",
       "      <td>5.0</td>\n",
       "      <td>17.74</td>\n",
       "    </tr>\n",
       "  </tbody>\n",
       "</table>\n",
       "</div>"
      ],
      "text/plain": [
       "                               Name    Location  Year  Kilometers_Driven  \\\n",
       "0            Maruti Wagon R LXI CNG      Mumbai  2010              72000   \n",
       "1  Hyundai Creta 1.6 CRDi SX Option        Pune  2015              41000   \n",
       "2                      Honda Jazz V     Chennai  2011              46000   \n",
       "3                 Maruti Ertiga VDI     Chennai  2012              87000   \n",
       "4   Audi A4 New 2.0 TDI Multitronic  Coimbatore  2013              40670   \n",
       "\n",
       "  Fuel_Type Transmission Owner_Type     Mileage   Engine      Power  Seats  \\\n",
       "0       CNG       Manual      First  26.6 km/kg   998 CC  58.16 bhp    5.0   \n",
       "1    Diesel       Manual      First  19.67 kmpl  1582 CC  126.2 bhp    5.0   \n",
       "2    Petrol       Manual      First   18.2 kmpl  1199 CC   88.7 bhp    5.0   \n",
       "3    Diesel       Manual      First  20.77 kmpl  1248 CC  88.76 bhp    7.0   \n",
       "4    Diesel    Automatic     Second   15.2 kmpl  1968 CC  140.8 bhp    5.0   \n",
       "\n",
       "   Price  \n",
       "0   1.75  \n",
       "1  12.50  \n",
       "2   4.50  \n",
       "3   6.00  \n",
       "4  17.74  "
      ]
     },
     "execution_count": 64,
     "metadata": {},
     "output_type": "execute_result"
    }
   ],
   "source": [
    "df=pd.read_csv('Data_Train.csv')\n",
    "df.head()"
   ]
  },
  {
   "cell_type": "code",
   "execution_count": 65,
   "metadata": {},
   "outputs": [
    {
     "data": {
      "text/plain": [
       "Name                  0\n",
       "Location              0\n",
       "Year                  0\n",
       "Kilometers_Driven     0\n",
       "Fuel_Type             0\n",
       "Transmission          0\n",
       "Owner_Type            0\n",
       "Mileage               2\n",
       "Engine               36\n",
       "Power                36\n",
       "Seats                42\n",
       "Price                 0\n",
       "dtype: int64"
      ]
     },
     "execution_count": 65,
     "metadata": {},
     "output_type": "execute_result"
    }
   ],
   "source": [
    "df.isnull().sum()"
   ]
  },
  {
   "cell_type": "code",
   "execution_count": 66,
   "metadata": {},
   "outputs": [
    {
     "data": {
      "text/plain": [
       "Name                 0\n",
       "Year                 0\n",
       "Kilometers_Driven    0\n",
       "Fuel_Type            0\n",
       "Transmission         0\n",
       "Owner_Type           0\n",
       "Mileage              0\n",
       "Engine               0\n",
       "Power                0\n",
       "Seats                0\n",
       "Price                0\n",
       "dtype: int64"
      ]
     },
     "execution_count": 66,
     "metadata": {},
     "output_type": "execute_result"
    }
   ],
   "source": [
    "df.dropna()\n",
    "df.dropna(subset=['Seats'],inplace=True)\n",
    "df.dropna(subset=['Mileage'],inplace=True)\n",
    "\n",
    "\n",
    "\n",
    "df=df.drop(['Location'],axis=1)\n",
    "df=df.reset_index()\n",
    "df=df.drop(['index'],axis=1)\n",
    "df.isnull().sum()"
   ]
  },
  {
   "cell_type": "code",
   "execution_count": 67,
   "metadata": {},
   "outputs": [
    {
     "data": {
      "text/html": [
       "<div>\n",
       "<style scoped>\n",
       "    .dataframe tbody tr th:only-of-type {\n",
       "        vertical-align: middle;\n",
       "    }\n",
       "\n",
       "    .dataframe tbody tr th {\n",
       "        vertical-align: top;\n",
       "    }\n",
       "\n",
       "    .dataframe thead th {\n",
       "        text-align: right;\n",
       "    }\n",
       "</style>\n",
       "<table border=\"1\" class=\"dataframe\">\n",
       "  <thead>\n",
       "    <tr style=\"text-align: right;\">\n",
       "      <th></th>\n",
       "      <th>Name</th>\n",
       "      <th>Year</th>\n",
       "      <th>Kilometers_Driven</th>\n",
       "      <th>Fuel_Type</th>\n",
       "      <th>Transmission</th>\n",
       "      <th>Owner_Type</th>\n",
       "      <th>Mileage</th>\n",
       "      <th>Engine</th>\n",
       "      <th>Power</th>\n",
       "      <th>Seats</th>\n",
       "      <th>Price</th>\n",
       "    </tr>\n",
       "  </thead>\n",
       "  <tbody>\n",
       "    <tr>\n",
       "      <th>0</th>\n",
       "      <td>Maruti Wagon R LXI CNG</td>\n",
       "      <td>2010</td>\n",
       "      <td>72000</td>\n",
       "      <td>CNG</td>\n",
       "      <td>Manual</td>\n",
       "      <td>First</td>\n",
       "      <td>26.6</td>\n",
       "      <td>998</td>\n",
       "      <td>58.16</td>\n",
       "      <td>5.0</td>\n",
       "      <td>1.75</td>\n",
       "    </tr>\n",
       "    <tr>\n",
       "      <th>1</th>\n",
       "      <td>Hyundai Creta 1.6 CRDi SX Option</td>\n",
       "      <td>2015</td>\n",
       "      <td>41000</td>\n",
       "      <td>Diesel</td>\n",
       "      <td>Manual</td>\n",
       "      <td>First</td>\n",
       "      <td>19.67</td>\n",
       "      <td>1582</td>\n",
       "      <td>126.2</td>\n",
       "      <td>5.0</td>\n",
       "      <td>12.50</td>\n",
       "    </tr>\n",
       "    <tr>\n",
       "      <th>2</th>\n",
       "      <td>Honda Jazz V</td>\n",
       "      <td>2011</td>\n",
       "      <td>46000</td>\n",
       "      <td>Petrol</td>\n",
       "      <td>Manual</td>\n",
       "      <td>First</td>\n",
       "      <td>18.2</td>\n",
       "      <td>1199</td>\n",
       "      <td>88.7</td>\n",
       "      <td>5.0</td>\n",
       "      <td>4.50</td>\n",
       "    </tr>\n",
       "    <tr>\n",
       "      <th>3</th>\n",
       "      <td>Maruti Ertiga VDI</td>\n",
       "      <td>2012</td>\n",
       "      <td>87000</td>\n",
       "      <td>Diesel</td>\n",
       "      <td>Manual</td>\n",
       "      <td>First</td>\n",
       "      <td>20.77</td>\n",
       "      <td>1248</td>\n",
       "      <td>88.76</td>\n",
       "      <td>7.0</td>\n",
       "      <td>6.00</td>\n",
       "    </tr>\n",
       "    <tr>\n",
       "      <th>4</th>\n",
       "      <td>Audi A4 New 2.0 TDI Multitronic</td>\n",
       "      <td>2013</td>\n",
       "      <td>40670</td>\n",
       "      <td>Diesel</td>\n",
       "      <td>Automatic</td>\n",
       "      <td>Second</td>\n",
       "      <td>15.2</td>\n",
       "      <td>1968</td>\n",
       "      <td>140.8</td>\n",
       "      <td>5.0</td>\n",
       "      <td>17.74</td>\n",
       "    </tr>\n",
       "    <tr>\n",
       "      <th>...</th>\n",
       "      <td>...</td>\n",
       "      <td>...</td>\n",
       "      <td>...</td>\n",
       "      <td>...</td>\n",
       "      <td>...</td>\n",
       "      <td>...</td>\n",
       "      <td>...</td>\n",
       "      <td>...</td>\n",
       "      <td>...</td>\n",
       "      <td>...</td>\n",
       "      <td>...</td>\n",
       "    </tr>\n",
       "    <tr>\n",
       "      <th>5970</th>\n",
       "      <td>Maruti Swift VDI</td>\n",
       "      <td>2014</td>\n",
       "      <td>27365</td>\n",
       "      <td>Diesel</td>\n",
       "      <td>Manual</td>\n",
       "      <td>First</td>\n",
       "      <td>28.4</td>\n",
       "      <td>1248</td>\n",
       "      <td>74</td>\n",
       "      <td>5.0</td>\n",
       "      <td>4.75</td>\n",
       "    </tr>\n",
       "    <tr>\n",
       "      <th>5971</th>\n",
       "      <td>Hyundai Xcent 1.1 CRDi S</td>\n",
       "      <td>2015</td>\n",
       "      <td>100000</td>\n",
       "      <td>Diesel</td>\n",
       "      <td>Manual</td>\n",
       "      <td>First</td>\n",
       "      <td>24.4</td>\n",
       "      <td>1120</td>\n",
       "      <td>71</td>\n",
       "      <td>5.0</td>\n",
       "      <td>4.00</td>\n",
       "    </tr>\n",
       "    <tr>\n",
       "      <th>5972</th>\n",
       "      <td>Mahindra Xylo D4 BSIV</td>\n",
       "      <td>2012</td>\n",
       "      <td>55000</td>\n",
       "      <td>Diesel</td>\n",
       "      <td>Manual</td>\n",
       "      <td>Second</td>\n",
       "      <td>14.0</td>\n",
       "      <td>2498</td>\n",
       "      <td>112</td>\n",
       "      <td>8.0</td>\n",
       "      <td>2.90</td>\n",
       "    </tr>\n",
       "    <tr>\n",
       "      <th>5973</th>\n",
       "      <td>Maruti Wagon R VXI</td>\n",
       "      <td>2013</td>\n",
       "      <td>46000</td>\n",
       "      <td>Petrol</td>\n",
       "      <td>Manual</td>\n",
       "      <td>First</td>\n",
       "      <td>18.9</td>\n",
       "      <td>998</td>\n",
       "      <td>67.1</td>\n",
       "      <td>5.0</td>\n",
       "      <td>2.65</td>\n",
       "    </tr>\n",
       "    <tr>\n",
       "      <th>5974</th>\n",
       "      <td>Chevrolet Beat Diesel</td>\n",
       "      <td>2011</td>\n",
       "      <td>47000</td>\n",
       "      <td>Diesel</td>\n",
       "      <td>Manual</td>\n",
       "      <td>First</td>\n",
       "      <td>25.44</td>\n",
       "      <td>936</td>\n",
       "      <td>57.6</td>\n",
       "      <td>5.0</td>\n",
       "      <td>2.50</td>\n",
       "    </tr>\n",
       "  </tbody>\n",
       "</table>\n",
       "<p>5975 rows × 11 columns</p>\n",
       "</div>"
      ],
      "text/plain": [
       "                                  Name  Year  Kilometers_Driven Fuel_Type  \\\n",
       "0               Maruti Wagon R LXI CNG  2010              72000       CNG   \n",
       "1     Hyundai Creta 1.6 CRDi SX Option  2015              41000    Diesel   \n",
       "2                         Honda Jazz V  2011              46000    Petrol   \n",
       "3                    Maruti Ertiga VDI  2012              87000    Diesel   \n",
       "4      Audi A4 New 2.0 TDI Multitronic  2013              40670    Diesel   \n",
       "...                                ...   ...                ...       ...   \n",
       "5970                  Maruti Swift VDI  2014              27365    Diesel   \n",
       "5971          Hyundai Xcent 1.1 CRDi S  2015             100000    Diesel   \n",
       "5972             Mahindra Xylo D4 BSIV  2012              55000    Diesel   \n",
       "5973                Maruti Wagon R VXI  2013              46000    Petrol   \n",
       "5974             Chevrolet Beat Diesel  2011              47000    Diesel   \n",
       "\n",
       "     Transmission Owner_Type Mileage Engine   Power  Seats  Price  \n",
       "0          Manual      First   26.6    998   58.16     5.0   1.75  \n",
       "1          Manual      First  19.67   1582   126.2     5.0  12.50  \n",
       "2          Manual      First   18.2   1199    88.7     5.0   4.50  \n",
       "3          Manual      First  20.77   1248   88.76     7.0   6.00  \n",
       "4       Automatic     Second   15.2   1968   140.8     5.0  17.74  \n",
       "...           ...        ...     ...    ...     ...    ...    ...  \n",
       "5970       Manual      First   28.4   1248      74     5.0   4.75  \n",
       "5971       Manual      First   24.4   1120      71     5.0   4.00  \n",
       "5972       Manual     Second   14.0   2498     112     8.0   2.90  \n",
       "5973       Manual      First   18.9    998    67.1     5.0   2.65  \n",
       "5974       Manual      First  25.44    936    57.6     5.0   2.50  \n",
       "\n",
       "[5975 rows x 11 columns]"
      ]
     },
     "execution_count": 67,
     "metadata": {},
     "output_type": "execute_result"
    }
   ],
   "source": [
    "df['Mileage']=df['Mileage'].astype(str)\n",
    "df['Engine']=df['Engine'].astype(str)\n",
    "df['Power']=df['Power'].astype(str)\n",
    "df['Mileage']=df['Mileage'].str.replace('kmpl','')\n",
    "df['Mileage']=df['Mileage'].str.replace('km/kg','')\n",
    "df['Engine']=df['Engine'].str.replace('CC','')\n",
    "df['Power']=df['Power'].str.replace('bhp','')\n",
    "\n",
    "\n",
    "\n",
    "df"
   ]
  },
  {
   "cell_type": "code",
   "execution_count": 68,
   "metadata": {},
   "outputs": [
    {
     "data": {
      "text/html": [
       "<div>\n",
       "<style scoped>\n",
       "    .dataframe tbody tr th:only-of-type {\n",
       "        vertical-align: middle;\n",
       "    }\n",
       "\n",
       "    .dataframe tbody tr th {\n",
       "        vertical-align: top;\n",
       "    }\n",
       "\n",
       "    .dataframe thead th {\n",
       "        text-align: right;\n",
       "    }\n",
       "</style>\n",
       "<table border=\"1\" class=\"dataframe\">\n",
       "  <thead>\n",
       "    <tr style=\"text-align: right;\">\n",
       "      <th></th>\n",
       "      <th>Name</th>\n",
       "      <th>Year</th>\n",
       "      <th>Kilometers_Driven</th>\n",
       "      <th>Fuel_Type</th>\n",
       "      <th>Transmission</th>\n",
       "      <th>Owner_Type</th>\n",
       "      <th>Mileage</th>\n",
       "      <th>Engine</th>\n",
       "      <th>Power</th>\n",
       "      <th>Seats</th>\n",
       "      <th>Price</th>\n",
       "      <th>feature_mfg_date</th>\n",
       "    </tr>\n",
       "  </thead>\n",
       "  <tbody>\n",
       "    <tr>\n",
       "      <th>0</th>\n",
       "      <td>Maruti Wagon R LXI CNG</td>\n",
       "      <td>2010</td>\n",
       "      <td>72000</td>\n",
       "      <td>CNG</td>\n",
       "      <td>Manual</td>\n",
       "      <td>First</td>\n",
       "      <td>26.6</td>\n",
       "      <td>998</td>\n",
       "      <td>58.16</td>\n",
       "      <td>5.0</td>\n",
       "      <td>1.75</td>\n",
       "      <td>old</td>\n",
       "    </tr>\n",
       "    <tr>\n",
       "      <th>1</th>\n",
       "      <td>Hyundai Creta 1.6 CRDi SX Option</td>\n",
       "      <td>2015</td>\n",
       "      <td>41000</td>\n",
       "      <td>Diesel</td>\n",
       "      <td>Manual</td>\n",
       "      <td>First</td>\n",
       "      <td>19.67</td>\n",
       "      <td>1582</td>\n",
       "      <td>126.2</td>\n",
       "      <td>5.0</td>\n",
       "      <td>12.50</td>\n",
       "      <td>like new</td>\n",
       "    </tr>\n",
       "    <tr>\n",
       "      <th>2</th>\n",
       "      <td>Honda Jazz V</td>\n",
       "      <td>2011</td>\n",
       "      <td>46000</td>\n",
       "      <td>Petrol</td>\n",
       "      <td>Manual</td>\n",
       "      <td>First</td>\n",
       "      <td>18.2</td>\n",
       "      <td>1199</td>\n",
       "      <td>88.7</td>\n",
       "      <td>5.0</td>\n",
       "      <td>4.50</td>\n",
       "      <td>like new</td>\n",
       "    </tr>\n",
       "    <tr>\n",
       "      <th>3</th>\n",
       "      <td>Maruti Ertiga VDI</td>\n",
       "      <td>2012</td>\n",
       "      <td>87000</td>\n",
       "      <td>Diesel</td>\n",
       "      <td>Manual</td>\n",
       "      <td>First</td>\n",
       "      <td>20.77</td>\n",
       "      <td>1248</td>\n",
       "      <td>88.76</td>\n",
       "      <td>7.0</td>\n",
       "      <td>6.00</td>\n",
       "      <td>like new</td>\n",
       "    </tr>\n",
       "    <tr>\n",
       "      <th>4</th>\n",
       "      <td>Audi A4 New 2.0 TDI Multitronic</td>\n",
       "      <td>2013</td>\n",
       "      <td>40670</td>\n",
       "      <td>Diesel</td>\n",
       "      <td>Automatic</td>\n",
       "      <td>Second</td>\n",
       "      <td>15.2</td>\n",
       "      <td>1968</td>\n",
       "      <td>140.8</td>\n",
       "      <td>5.0</td>\n",
       "      <td>17.74</td>\n",
       "      <td>like new</td>\n",
       "    </tr>\n",
       "    <tr>\n",
       "      <th>...</th>\n",
       "      <td>...</td>\n",
       "      <td>...</td>\n",
       "      <td>...</td>\n",
       "      <td>...</td>\n",
       "      <td>...</td>\n",
       "      <td>...</td>\n",
       "      <td>...</td>\n",
       "      <td>...</td>\n",
       "      <td>...</td>\n",
       "      <td>...</td>\n",
       "      <td>...</td>\n",
       "      <td>...</td>\n",
       "    </tr>\n",
       "    <tr>\n",
       "      <th>95</th>\n",
       "      <td>Honda Amaze SX i-DTEC</td>\n",
       "      <td>2015</td>\n",
       "      <td>30000</td>\n",
       "      <td>Diesel</td>\n",
       "      <td>Manual</td>\n",
       "      <td>First</td>\n",
       "      <td>25.8</td>\n",
       "      <td>1498</td>\n",
       "      <td>98.6</td>\n",
       "      <td>5.0</td>\n",
       "      <td>3.50</td>\n",
       "      <td>like new</td>\n",
       "    </tr>\n",
       "    <tr>\n",
       "      <th>96</th>\n",
       "      <td>Volkswagen Polo Diesel Highline 1.2L</td>\n",
       "      <td>2013</td>\n",
       "      <td>34212</td>\n",
       "      <td>Diesel</td>\n",
       "      <td>Manual</td>\n",
       "      <td>First</td>\n",
       "      <td>22.07</td>\n",
       "      <td>1199</td>\n",
       "      <td>73.9</td>\n",
       "      <td>5.0</td>\n",
       "      <td>2.79</td>\n",
       "      <td>like new</td>\n",
       "    </tr>\n",
       "    <tr>\n",
       "      <th>97</th>\n",
       "      <td>Hyundai Verna Transform SX VGT CRDi</td>\n",
       "      <td>2010</td>\n",
       "      <td>70002</td>\n",
       "      <td>Diesel</td>\n",
       "      <td>Manual</td>\n",
       "      <td>First</td>\n",
       "      <td>16.2</td>\n",
       "      <td>1493</td>\n",
       "      <td>110</td>\n",
       "      <td>5.0</td>\n",
       "      <td>3.45</td>\n",
       "      <td>old</td>\n",
       "    </tr>\n",
       "    <tr>\n",
       "      <th>98</th>\n",
       "      <td>Maruti Wagon R VXI BS IV</td>\n",
       "      <td>2016</td>\n",
       "      <td>62000</td>\n",
       "      <td>Petrol</td>\n",
       "      <td>Manual</td>\n",
       "      <td>First</td>\n",
       "      <td>18.9</td>\n",
       "      <td>998</td>\n",
       "      <td>67.1</td>\n",
       "      <td>5.0</td>\n",
       "      <td>4.45</td>\n",
       "      <td>new</td>\n",
       "    </tr>\n",
       "    <tr>\n",
       "      <th>99</th>\n",
       "      <td>Volkswagen Polo Petrol Highline 1.6L</td>\n",
       "      <td>2010</td>\n",
       "      <td>62001</td>\n",
       "      <td>Petrol</td>\n",
       "      <td>Manual</td>\n",
       "      <td>First</td>\n",
       "      <td>15.26</td>\n",
       "      <td>1598</td>\n",
       "      <td>103.5</td>\n",
       "      <td>5.0</td>\n",
       "      <td>2.65</td>\n",
       "      <td>old</td>\n",
       "    </tr>\n",
       "  </tbody>\n",
       "</table>\n",
       "<p>100 rows × 12 columns</p>\n",
       "</div>"
      ],
      "text/plain": [
       "                                    Name  Year  Kilometers_Driven Fuel_Type  \\\n",
       "0                 Maruti Wagon R LXI CNG  2010              72000       CNG   \n",
       "1       Hyundai Creta 1.6 CRDi SX Option  2015              41000    Diesel   \n",
       "2                           Honda Jazz V  2011              46000    Petrol   \n",
       "3                      Maruti Ertiga VDI  2012              87000    Diesel   \n",
       "4        Audi A4 New 2.0 TDI Multitronic  2013              40670    Diesel   \n",
       "..                                   ...   ...                ...       ...   \n",
       "95                 Honda Amaze SX i-DTEC  2015              30000    Diesel   \n",
       "96  Volkswagen Polo Diesel Highline 1.2L  2013              34212    Diesel   \n",
       "97   Hyundai Verna Transform SX VGT CRDi  2010              70002    Diesel   \n",
       "98              Maruti Wagon R VXI BS IV  2016              62000    Petrol   \n",
       "99  Volkswagen Polo Petrol Highline 1.6L  2010              62001    Petrol   \n",
       "\n",
       "   Transmission Owner_Type Mileage Engine   Power  Seats  Price  \\\n",
       "0        Manual      First   26.6    998   58.16     5.0   1.75   \n",
       "1        Manual      First  19.67   1582   126.2     5.0  12.50   \n",
       "2        Manual      First   18.2   1199    88.7     5.0   4.50   \n",
       "3        Manual      First  20.77   1248   88.76     7.0   6.00   \n",
       "4     Automatic     Second   15.2   1968   140.8     5.0  17.74   \n",
       "..          ...        ...     ...    ...     ...    ...    ...   \n",
       "95       Manual      First   25.8   1498    98.6     5.0   3.50   \n",
       "96       Manual      First  22.07   1199    73.9     5.0   2.79   \n",
       "97       Manual      First   16.2   1493     110     5.0   3.45   \n",
       "98       Manual      First   18.9    998    67.1     5.0   4.45   \n",
       "99       Manual      First  15.26   1598   103.5     5.0   2.65   \n",
       "\n",
       "   feature_mfg_date  \n",
       "0               old  \n",
       "1          like new  \n",
       "2          like new  \n",
       "3          like new  \n",
       "4          like new  \n",
       "..              ...  \n",
       "95         like new  \n",
       "96         like new  \n",
       "97              old  \n",
       "98              new  \n",
       "99              old  \n",
       "\n",
       "[100 rows x 12 columns]"
      ]
     },
     "execution_count": 68,
     "metadata": {},
     "output_type": "execute_result"
    }
   ],
   "source": [
    "df['feature_mfg_date']='New'\n",
    "\n",
    "df['feature_mfg_date']=np.where((df.Year<2011),'old',df.feature_mfg_date)\n",
    "df['feature_mfg_date']=np.where((df.Year>=2011),'like new',df.feature_mfg_date)\n",
    "df['feature_mfg_date']=np.where((df.Year>2015),'new',df.feature_mfg_date)\n",
    "\n",
    "df.head(100)\n"
   ]
  },
  {
   "cell_type": "code",
   "execution_count": 69,
   "metadata": {},
   "outputs": [],
   "source": [
    "df=df.drop([4446,76,4413,4864,4863])"
   ]
  },
  {
   "cell_type": "code",
   "execution_count": 70,
   "metadata": {},
   "outputs": [],
   "source": [
    "df['Power']=df['Power'].astype(str)\n",
    "drop=df.loc[df.Power.str.contains('null ')].index\n",
    "\n",
    "df.drop(drop,inplace=True)\n",
    "df=df[df['Kilometers_Driven']<150000]\n",
    "df=df[df['Kilometers_Driven']>=10000]\n",
    "df=df[df['Mileage']!=0]\n"
   ]
  },
  {
   "cell_type": "code",
   "execution_count": 71,
   "metadata": {},
   "outputs": [],
   "source": [
    "df['Mileage']=pd.to_numeric(df['Mileage'],downcast='float')\n",
    "df['Engine']=pd.to_numeric(df['Engine'],downcast='float')\n",
    "df['Power']=pd.to_numeric(df['Power'],downcast='float')\n",
    "null_values=df[df['Mileage']==0].index\n",
    "df.drop(null_values,inplace=True)"
   ]
  },
  {
   "cell_type": "code",
   "execution_count": 72,
   "metadata": {},
   "outputs": [
    {
     "data": {
      "text/html": [
       "<div>\n",
       "<style scoped>\n",
       "    .dataframe tbody tr th:only-of-type {\n",
       "        vertical-align: middle;\n",
       "    }\n",
       "\n",
       "    .dataframe tbody tr th {\n",
       "        vertical-align: top;\n",
       "    }\n",
       "\n",
       "    .dataframe thead th {\n",
       "        text-align: right;\n",
       "    }\n",
       "</style>\n",
       "<table border=\"1\" class=\"dataframe\">\n",
       "  <thead>\n",
       "    <tr style=\"text-align: right;\">\n",
       "      <th></th>\n",
       "      <th>Name</th>\n",
       "      <th>Year</th>\n",
       "      <th>Kilometers_Driven</th>\n",
       "      <th>Fuel_Type</th>\n",
       "      <th>Transmission</th>\n",
       "      <th>Owner_Type</th>\n",
       "      <th>Mileage</th>\n",
       "      <th>Engine</th>\n",
       "      <th>Power</th>\n",
       "      <th>Seats</th>\n",
       "      <th>Price</th>\n",
       "      <th>feature_mfg_date</th>\n",
       "    </tr>\n",
       "  </thead>\n",
       "  <tbody>\n",
       "    <tr>\n",
       "      <th>0</th>\n",
       "      <td>Maruti Wagon R LXI CNG</td>\n",
       "      <td>2010</td>\n",
       "      <td>72000</td>\n",
       "      <td>CNG</td>\n",
       "      <td>Manual</td>\n",
       "      <td>First</td>\n",
       "      <td>26.600000</td>\n",
       "      <td>998.0</td>\n",
       "      <td>58.160000</td>\n",
       "      <td>5.0</td>\n",
       "      <td>1.75</td>\n",
       "      <td>old</td>\n",
       "    </tr>\n",
       "    <tr>\n",
       "      <th>1</th>\n",
       "      <td>Hyundai Creta 1.6 CRDi SX Option</td>\n",
       "      <td>2015</td>\n",
       "      <td>41000</td>\n",
       "      <td>Diesel</td>\n",
       "      <td>Manual</td>\n",
       "      <td>First</td>\n",
       "      <td>19.670000</td>\n",
       "      <td>1582.0</td>\n",
       "      <td>126.199997</td>\n",
       "      <td>5.0</td>\n",
       "      <td>12.50</td>\n",
       "      <td>like new</td>\n",
       "    </tr>\n",
       "    <tr>\n",
       "      <th>2</th>\n",
       "      <td>Honda Jazz V</td>\n",
       "      <td>2011</td>\n",
       "      <td>46000</td>\n",
       "      <td>Petrol</td>\n",
       "      <td>Manual</td>\n",
       "      <td>First</td>\n",
       "      <td>18.200001</td>\n",
       "      <td>1199.0</td>\n",
       "      <td>88.699997</td>\n",
       "      <td>5.0</td>\n",
       "      <td>4.50</td>\n",
       "      <td>like new</td>\n",
       "    </tr>\n",
       "    <tr>\n",
       "      <th>3</th>\n",
       "      <td>Maruti Ertiga VDI</td>\n",
       "      <td>2012</td>\n",
       "      <td>87000</td>\n",
       "      <td>Diesel</td>\n",
       "      <td>Manual</td>\n",
       "      <td>First</td>\n",
       "      <td>20.770000</td>\n",
       "      <td>1248.0</td>\n",
       "      <td>88.760002</td>\n",
       "      <td>7.0</td>\n",
       "      <td>6.00</td>\n",
       "      <td>like new</td>\n",
       "    </tr>\n",
       "    <tr>\n",
       "      <th>4</th>\n",
       "      <td>Audi A4 New 2.0 TDI Multitronic</td>\n",
       "      <td>2013</td>\n",
       "      <td>40670</td>\n",
       "      <td>Diesel</td>\n",
       "      <td>Automatic</td>\n",
       "      <td>Second</td>\n",
       "      <td>15.200000</td>\n",
       "      <td>1968.0</td>\n",
       "      <td>140.800003</td>\n",
       "      <td>5.0</td>\n",
       "      <td>17.74</td>\n",
       "      <td>like new</td>\n",
       "    </tr>\n",
       "    <tr>\n",
       "      <th>...</th>\n",
       "      <td>...</td>\n",
       "      <td>...</td>\n",
       "      <td>...</td>\n",
       "      <td>...</td>\n",
       "      <td>...</td>\n",
       "      <td>...</td>\n",
       "      <td>...</td>\n",
       "      <td>...</td>\n",
       "      <td>...</td>\n",
       "      <td>...</td>\n",
       "      <td>...</td>\n",
       "      <td>...</td>\n",
       "    </tr>\n",
       "    <tr>\n",
       "      <th>5970</th>\n",
       "      <td>Maruti Swift VDI</td>\n",
       "      <td>2014</td>\n",
       "      <td>27365</td>\n",
       "      <td>Diesel</td>\n",
       "      <td>Manual</td>\n",
       "      <td>First</td>\n",
       "      <td>28.400000</td>\n",
       "      <td>1248.0</td>\n",
       "      <td>74.000000</td>\n",
       "      <td>5.0</td>\n",
       "      <td>4.75</td>\n",
       "      <td>like new</td>\n",
       "    </tr>\n",
       "    <tr>\n",
       "      <th>5971</th>\n",
       "      <td>Hyundai Xcent 1.1 CRDi S</td>\n",
       "      <td>2015</td>\n",
       "      <td>100000</td>\n",
       "      <td>Diesel</td>\n",
       "      <td>Manual</td>\n",
       "      <td>First</td>\n",
       "      <td>24.400000</td>\n",
       "      <td>1120.0</td>\n",
       "      <td>71.000000</td>\n",
       "      <td>5.0</td>\n",
       "      <td>4.00</td>\n",
       "      <td>like new</td>\n",
       "    </tr>\n",
       "    <tr>\n",
       "      <th>5972</th>\n",
       "      <td>Mahindra Xylo D4 BSIV</td>\n",
       "      <td>2012</td>\n",
       "      <td>55000</td>\n",
       "      <td>Diesel</td>\n",
       "      <td>Manual</td>\n",
       "      <td>Second</td>\n",
       "      <td>14.000000</td>\n",
       "      <td>2498.0</td>\n",
       "      <td>112.000000</td>\n",
       "      <td>8.0</td>\n",
       "      <td>2.90</td>\n",
       "      <td>like new</td>\n",
       "    </tr>\n",
       "    <tr>\n",
       "      <th>5973</th>\n",
       "      <td>Maruti Wagon R VXI</td>\n",
       "      <td>2013</td>\n",
       "      <td>46000</td>\n",
       "      <td>Petrol</td>\n",
       "      <td>Manual</td>\n",
       "      <td>First</td>\n",
       "      <td>18.900000</td>\n",
       "      <td>998.0</td>\n",
       "      <td>67.099998</td>\n",
       "      <td>5.0</td>\n",
       "      <td>2.65</td>\n",
       "      <td>like new</td>\n",
       "    </tr>\n",
       "    <tr>\n",
       "      <th>5974</th>\n",
       "      <td>Chevrolet Beat Diesel</td>\n",
       "      <td>2011</td>\n",
       "      <td>47000</td>\n",
       "      <td>Diesel</td>\n",
       "      <td>Manual</td>\n",
       "      <td>First</td>\n",
       "      <td>25.440001</td>\n",
       "      <td>936.0</td>\n",
       "      <td>57.599998</td>\n",
       "      <td>5.0</td>\n",
       "      <td>2.50</td>\n",
       "      <td>like new</td>\n",
       "    </tr>\n",
       "  </tbody>\n",
       "</table>\n",
       "<p>5543 rows × 12 columns</p>\n",
       "</div>"
      ],
      "text/plain": [
       "                                  Name  Year  Kilometers_Driven Fuel_Type  \\\n",
       "0               Maruti Wagon R LXI CNG  2010              72000       CNG   \n",
       "1     Hyundai Creta 1.6 CRDi SX Option  2015              41000    Diesel   \n",
       "2                         Honda Jazz V  2011              46000    Petrol   \n",
       "3                    Maruti Ertiga VDI  2012              87000    Diesel   \n",
       "4      Audi A4 New 2.0 TDI Multitronic  2013              40670    Diesel   \n",
       "...                                ...   ...                ...       ...   \n",
       "5970                  Maruti Swift VDI  2014              27365    Diesel   \n",
       "5971          Hyundai Xcent 1.1 CRDi S  2015             100000    Diesel   \n",
       "5972             Mahindra Xylo D4 BSIV  2012              55000    Diesel   \n",
       "5973                Maruti Wagon R VXI  2013              46000    Petrol   \n",
       "5974             Chevrolet Beat Diesel  2011              47000    Diesel   \n",
       "\n",
       "     Transmission Owner_Type    Mileage  Engine       Power  Seats  Price  \\\n",
       "0          Manual      First  26.600000   998.0   58.160000    5.0   1.75   \n",
       "1          Manual      First  19.670000  1582.0  126.199997    5.0  12.50   \n",
       "2          Manual      First  18.200001  1199.0   88.699997    5.0   4.50   \n",
       "3          Manual      First  20.770000  1248.0   88.760002    7.0   6.00   \n",
       "4       Automatic     Second  15.200000  1968.0  140.800003    5.0  17.74   \n",
       "...           ...        ...        ...     ...         ...    ...    ...   \n",
       "5970       Manual      First  28.400000  1248.0   74.000000    5.0   4.75   \n",
       "5971       Manual      First  24.400000  1120.0   71.000000    5.0   4.00   \n",
       "5972       Manual     Second  14.000000  2498.0  112.000000    8.0   2.90   \n",
       "5973       Manual      First  18.900000   998.0   67.099998    5.0   2.65   \n",
       "5974       Manual      First  25.440001   936.0   57.599998    5.0   2.50   \n",
       "\n",
       "     feature_mfg_date  \n",
       "0                 old  \n",
       "1            like new  \n",
       "2            like new  \n",
       "3            like new  \n",
       "4            like new  \n",
       "...               ...  \n",
       "5970         like new  \n",
       "5971         like new  \n",
       "5972         like new  \n",
       "5973         like new  \n",
       "5974         like new  \n",
       "\n",
       "[5543 rows x 12 columns]"
      ]
     },
     "execution_count": 72,
     "metadata": {},
     "output_type": "execute_result"
    }
   ],
   "source": [
    "df"
   ]
  },
  {
   "cell_type": "code",
   "execution_count": 73,
   "metadata": {},
   "outputs": [
    {
     "data": {
      "text/plain": [
       "10000"
      ]
     },
     "execution_count": 73,
     "metadata": {},
     "output_type": "execute_result"
    }
   ],
   "source": [
    "df['Kilometers_Driven'].min()"
   ]
  },
  {
   "cell_type": "code",
   "execution_count": 74,
   "metadata": {},
   "outputs": [],
   "source": [
    "df['condition']='Excellent'"
   ]
  },
  {
   "cell_type": "code",
   "execution_count": 75,
   "metadata": {},
   "outputs": [],
   "source": [
    "df['condition']=np.where((df.Kilometers_Driven<20000),'excellent',df.condition)\n",
    "df['condition']=np.where((df.Kilometers_Driven>=20000)&(df.feature_mfg_date=='old'),'good',df.condition)\n",
    "df['condition']=np.where((df.Kilometers_Driven>60000)&(df.feature_mfg_date=='old'),'good',df.condition)\n",
    "df['condition']=np.where((df.Kilometers_Driven>80000)&(df.feature_mfg_date=='old'),'salavage',df.condition)\n",
    "df['condition']=np.where((df.Kilometers_Driven>=20000)&(df.feature_mfg_date=='like new'),'good',df.condition)\n",
    "df['condition']=np.where((df.Kilometers_Driven>60000)&(df.feature_mfg_date=='like_new'),'fair',df.condition)\n",
    "\n",
    "df['condition']=np.where((df.Kilometers_Driven>=20000)&(df.feature_mfg_date=='new'),'excellent',df.condition)\n",
    "\n",
    "df['condition']=np.where((df.Kilometers_Driven>100000),'salavage',df.condition)\n",
    "\n",
    "\n",
    "\n"
   ]
  },
  {
   "cell_type": "code",
   "execution_count": 76,
   "metadata": {},
   "outputs": [],
   "source": [
    "df['condition']=np.where((df.condition=='excellent')&(df.Owner_Type=='First'),'excellent',df.condition)\n",
    "df['condition']=np.where((df.condition=='excellent')&(df.Owner_Type=='Second'),'good',df.condition)\n",
    "df['condition']=np.where((df.condition=='good')&(df.Owner_Type=='First'),'good',df.condition)\n",
    "df['condition']=np.where((df.condition=='good')&(df.Owner_Type=='Second'),'fair',df.condition)\n",
    "df['condition']=np.where((df.condition=='fair')&(df.Owner_Type=='First'),'fair',df.condition)\n",
    "df['condition']=np.where((df.condition=='fair')&(df.Owner_Type=='Second'),'fair',df.condition)\n",
    "df['condition']=np.where((df.condition=='salavage')&(df.Owner_Type=='First'),'salavage',df.condition)\n",
    "df['condition']=np.where((df.condition=='salavage')&(df.Owner_Type=='Second'),'salavage',df.condition)\n",
    "df['condition']=np.where((df.condition=='excellent')&(df.Engine<2000),'good',df.condition)\n",
    "df['condition']=np.where((df.condition=='good')&(df.Engine<1000),'fair',df.condition)\n",
    "df['condition']=np.where((df.condition=='fair')&(df.Power>290),'excellent',df.condition)\n",
    "\n",
    "\n",
    "\n"
   ]
  },
  {
   "cell_type": "code",
   "execution_count": 77,
   "metadata": {},
   "outputs": [
    {
     "data": {
      "text/html": [
       "<div>\n",
       "<style scoped>\n",
       "    .dataframe tbody tr th:only-of-type {\n",
       "        vertical-align: middle;\n",
       "    }\n",
       "\n",
       "    .dataframe tbody tr th {\n",
       "        vertical-align: top;\n",
       "    }\n",
       "\n",
       "    .dataframe thead th {\n",
       "        text-align: right;\n",
       "    }\n",
       "</style>\n",
       "<table border=\"1\" class=\"dataframe\">\n",
       "  <thead>\n",
       "    <tr style=\"text-align: right;\">\n",
       "      <th></th>\n",
       "      <th>Name</th>\n",
       "      <th>Year</th>\n",
       "      <th>Kilometers_Driven</th>\n",
       "      <th>Fuel_Type</th>\n",
       "      <th>Transmission</th>\n",
       "      <th>Owner_Type</th>\n",
       "      <th>Mileage</th>\n",
       "      <th>Engine</th>\n",
       "      <th>Power</th>\n",
       "      <th>Seats</th>\n",
       "      <th>Price</th>\n",
       "      <th>feature_mfg_date</th>\n",
       "      <th>condition</th>\n",
       "    </tr>\n",
       "  </thead>\n",
       "  <tbody>\n",
       "    <tr>\n",
       "      <th>0</th>\n",
       "      <td>Maruti Wagon R LXI CNG</td>\n",
       "      <td>2010</td>\n",
       "      <td>72000</td>\n",
       "      <td>CNG</td>\n",
       "      <td>Manual</td>\n",
       "      <td>First</td>\n",
       "      <td>26.600000</td>\n",
       "      <td>998.0</td>\n",
       "      <td>58.160000</td>\n",
       "      <td>5.0</td>\n",
       "      <td>1.75</td>\n",
       "      <td>old</td>\n",
       "      <td>fair</td>\n",
       "    </tr>\n",
       "    <tr>\n",
       "      <th>1</th>\n",
       "      <td>Hyundai Creta 1.6 CRDi SX Option</td>\n",
       "      <td>2015</td>\n",
       "      <td>41000</td>\n",
       "      <td>Diesel</td>\n",
       "      <td>Manual</td>\n",
       "      <td>First</td>\n",
       "      <td>19.670000</td>\n",
       "      <td>1582.0</td>\n",
       "      <td>126.199997</td>\n",
       "      <td>5.0</td>\n",
       "      <td>12.50</td>\n",
       "      <td>like new</td>\n",
       "      <td>good</td>\n",
       "    </tr>\n",
       "    <tr>\n",
       "      <th>2</th>\n",
       "      <td>Honda Jazz V</td>\n",
       "      <td>2011</td>\n",
       "      <td>46000</td>\n",
       "      <td>Petrol</td>\n",
       "      <td>Manual</td>\n",
       "      <td>First</td>\n",
       "      <td>18.200001</td>\n",
       "      <td>1199.0</td>\n",
       "      <td>88.699997</td>\n",
       "      <td>5.0</td>\n",
       "      <td>4.50</td>\n",
       "      <td>like new</td>\n",
       "      <td>good</td>\n",
       "    </tr>\n",
       "    <tr>\n",
       "      <th>3</th>\n",
       "      <td>Maruti Ertiga VDI</td>\n",
       "      <td>2012</td>\n",
       "      <td>87000</td>\n",
       "      <td>Diesel</td>\n",
       "      <td>Manual</td>\n",
       "      <td>First</td>\n",
       "      <td>20.770000</td>\n",
       "      <td>1248.0</td>\n",
       "      <td>88.760002</td>\n",
       "      <td>7.0</td>\n",
       "      <td>6.00</td>\n",
       "      <td>like new</td>\n",
       "      <td>good</td>\n",
       "    </tr>\n",
       "    <tr>\n",
       "      <th>4</th>\n",
       "      <td>Audi A4 New 2.0 TDI Multitronic</td>\n",
       "      <td>2013</td>\n",
       "      <td>40670</td>\n",
       "      <td>Diesel</td>\n",
       "      <td>Automatic</td>\n",
       "      <td>Second</td>\n",
       "      <td>15.200000</td>\n",
       "      <td>1968.0</td>\n",
       "      <td>140.800003</td>\n",
       "      <td>5.0</td>\n",
       "      <td>17.74</td>\n",
       "      <td>like new</td>\n",
       "      <td>fair</td>\n",
       "    </tr>\n",
       "    <tr>\n",
       "      <th>...</th>\n",
       "      <td>...</td>\n",
       "      <td>...</td>\n",
       "      <td>...</td>\n",
       "      <td>...</td>\n",
       "      <td>...</td>\n",
       "      <td>...</td>\n",
       "      <td>...</td>\n",
       "      <td>...</td>\n",
       "      <td>...</td>\n",
       "      <td>...</td>\n",
       "      <td>...</td>\n",
       "      <td>...</td>\n",
       "      <td>...</td>\n",
       "    </tr>\n",
       "    <tr>\n",
       "      <th>5970</th>\n",
       "      <td>Maruti Swift VDI</td>\n",
       "      <td>2014</td>\n",
       "      <td>27365</td>\n",
       "      <td>Diesel</td>\n",
       "      <td>Manual</td>\n",
       "      <td>First</td>\n",
       "      <td>28.400000</td>\n",
       "      <td>1248.0</td>\n",
       "      <td>74.000000</td>\n",
       "      <td>5.0</td>\n",
       "      <td>4.75</td>\n",
       "      <td>like new</td>\n",
       "      <td>good</td>\n",
       "    </tr>\n",
       "    <tr>\n",
       "      <th>5971</th>\n",
       "      <td>Hyundai Xcent 1.1 CRDi S</td>\n",
       "      <td>2015</td>\n",
       "      <td>100000</td>\n",
       "      <td>Diesel</td>\n",
       "      <td>Manual</td>\n",
       "      <td>First</td>\n",
       "      <td>24.400000</td>\n",
       "      <td>1120.0</td>\n",
       "      <td>71.000000</td>\n",
       "      <td>5.0</td>\n",
       "      <td>4.00</td>\n",
       "      <td>like new</td>\n",
       "      <td>good</td>\n",
       "    </tr>\n",
       "    <tr>\n",
       "      <th>5972</th>\n",
       "      <td>Mahindra Xylo D4 BSIV</td>\n",
       "      <td>2012</td>\n",
       "      <td>55000</td>\n",
       "      <td>Diesel</td>\n",
       "      <td>Manual</td>\n",
       "      <td>Second</td>\n",
       "      <td>14.000000</td>\n",
       "      <td>2498.0</td>\n",
       "      <td>112.000000</td>\n",
       "      <td>8.0</td>\n",
       "      <td>2.90</td>\n",
       "      <td>like new</td>\n",
       "      <td>fair</td>\n",
       "    </tr>\n",
       "    <tr>\n",
       "      <th>5973</th>\n",
       "      <td>Maruti Wagon R VXI</td>\n",
       "      <td>2013</td>\n",
       "      <td>46000</td>\n",
       "      <td>Petrol</td>\n",
       "      <td>Manual</td>\n",
       "      <td>First</td>\n",
       "      <td>18.900000</td>\n",
       "      <td>998.0</td>\n",
       "      <td>67.099998</td>\n",
       "      <td>5.0</td>\n",
       "      <td>2.65</td>\n",
       "      <td>like new</td>\n",
       "      <td>fair</td>\n",
       "    </tr>\n",
       "    <tr>\n",
       "      <th>5974</th>\n",
       "      <td>Chevrolet Beat Diesel</td>\n",
       "      <td>2011</td>\n",
       "      <td>47000</td>\n",
       "      <td>Diesel</td>\n",
       "      <td>Manual</td>\n",
       "      <td>First</td>\n",
       "      <td>25.440001</td>\n",
       "      <td>936.0</td>\n",
       "      <td>57.599998</td>\n",
       "      <td>5.0</td>\n",
       "      <td>2.50</td>\n",
       "      <td>like new</td>\n",
       "      <td>fair</td>\n",
       "    </tr>\n",
       "  </tbody>\n",
       "</table>\n",
       "<p>5543 rows × 13 columns</p>\n",
       "</div>"
      ],
      "text/plain": [
       "                                  Name  Year  Kilometers_Driven Fuel_Type  \\\n",
       "0               Maruti Wagon R LXI CNG  2010              72000       CNG   \n",
       "1     Hyundai Creta 1.6 CRDi SX Option  2015              41000    Diesel   \n",
       "2                         Honda Jazz V  2011              46000    Petrol   \n",
       "3                    Maruti Ertiga VDI  2012              87000    Diesel   \n",
       "4      Audi A4 New 2.0 TDI Multitronic  2013              40670    Diesel   \n",
       "...                                ...   ...                ...       ...   \n",
       "5970                  Maruti Swift VDI  2014              27365    Diesel   \n",
       "5971          Hyundai Xcent 1.1 CRDi S  2015             100000    Diesel   \n",
       "5972             Mahindra Xylo D4 BSIV  2012              55000    Diesel   \n",
       "5973                Maruti Wagon R VXI  2013              46000    Petrol   \n",
       "5974             Chevrolet Beat Diesel  2011              47000    Diesel   \n",
       "\n",
       "     Transmission Owner_Type    Mileage  Engine       Power  Seats  Price  \\\n",
       "0          Manual      First  26.600000   998.0   58.160000    5.0   1.75   \n",
       "1          Manual      First  19.670000  1582.0  126.199997    5.0  12.50   \n",
       "2          Manual      First  18.200001  1199.0   88.699997    5.0   4.50   \n",
       "3          Manual      First  20.770000  1248.0   88.760002    7.0   6.00   \n",
       "4       Automatic     Second  15.200000  1968.0  140.800003    5.0  17.74   \n",
       "...           ...        ...        ...     ...         ...    ...    ...   \n",
       "5970       Manual      First  28.400000  1248.0   74.000000    5.0   4.75   \n",
       "5971       Manual      First  24.400000  1120.0   71.000000    5.0   4.00   \n",
       "5972       Manual     Second  14.000000  2498.0  112.000000    8.0   2.90   \n",
       "5973       Manual      First  18.900000   998.0   67.099998    5.0   2.65   \n",
       "5974       Manual      First  25.440001   936.0   57.599998    5.0   2.50   \n",
       "\n",
       "     feature_mfg_date condition  \n",
       "0                 old      fair  \n",
       "1            like new      good  \n",
       "2            like new      good  \n",
       "3            like new      good  \n",
       "4            like new      fair  \n",
       "...               ...       ...  \n",
       "5970         like new      good  \n",
       "5971         like new      good  \n",
       "5972         like new      fair  \n",
       "5973         like new      fair  \n",
       "5974         like new      fair  \n",
       "\n",
       "[5543 rows x 13 columns]"
      ]
     },
     "execution_count": 77,
     "metadata": {},
     "output_type": "execute_result"
    }
   ],
   "source": [
    "df"
   ]
  },
  {
   "cell_type": "code",
   "execution_count": 78,
   "metadata": {},
   "outputs": [
    {
     "data": {
      "text/html": [
       "<div>\n",
       "<style scoped>\n",
       "    .dataframe tbody tr th:only-of-type {\n",
       "        vertical-align: middle;\n",
       "    }\n",
       "\n",
       "    .dataframe tbody tr th {\n",
       "        vertical-align: top;\n",
       "    }\n",
       "\n",
       "    .dataframe thead th {\n",
       "        text-align: right;\n",
       "    }\n",
       "</style>\n",
       "<table border=\"1\" class=\"dataframe\">\n",
       "  <thead>\n",
       "    <tr style=\"text-align: right;\">\n",
       "      <th></th>\n",
       "      <th>Name</th>\n",
       "      <th>Year</th>\n",
       "      <th>Kilometers_Driven</th>\n",
       "      <th>Fuel_Type</th>\n",
       "      <th>Transmission</th>\n",
       "      <th>Owner_Type</th>\n",
       "      <th>Mileage</th>\n",
       "      <th>Engine</th>\n",
       "      <th>Power</th>\n",
       "      <th>Seats</th>\n",
       "      <th>Price</th>\n",
       "      <th>feature_mfg_date</th>\n",
       "      <th>condition</th>\n",
       "    </tr>\n",
       "  </thead>\n",
       "  <tbody>\n",
       "    <tr>\n",
       "      <th>4048</th>\n",
       "      <td>Land Rover Range Rover 3.0 Diesel LWB Vogue</td>\n",
       "      <td>2017</td>\n",
       "      <td>25000</td>\n",
       "      <td>Diesel</td>\n",
       "      <td>Automatic</td>\n",
       "      <td>First</td>\n",
       "      <td>13.33</td>\n",
       "      <td>2993.0</td>\n",
       "      <td>255.0</td>\n",
       "      <td>5.0</td>\n",
       "      <td>160.0</td>\n",
       "      <td>new</td>\n",
       "      <td>excellent</td>\n",
       "    </tr>\n",
       "  </tbody>\n",
       "</table>\n",
       "</div>"
      ],
      "text/plain": [
       "                                             Name  Year  Kilometers_Driven  \\\n",
       "4048  Land Rover Range Rover 3.0 Diesel LWB Vogue  2017              25000   \n",
       "\n",
       "     Fuel_Type Transmission Owner_Type  Mileage  Engine  Power  Seats  Price  \\\n",
       "4048    Diesel    Automatic      First    13.33  2993.0  255.0    5.0  160.0   \n",
       "\n",
       "     feature_mfg_date  condition  \n",
       "4048              new  excellent  "
      ]
     },
     "execution_count": 78,
     "metadata": {},
     "output_type": "execute_result"
    }
   ],
   "source": [
    "df[df.Price==df.Price.max()]"
   ]
  },
  {
   "cell_type": "markdown",
   "metadata": {},
   "source": [
    "# EDA (Exploratory Data Analysis)"
   ]
  },
  {
   "cell_type": "code",
   "execution_count": 79,
   "metadata": {
    "scrolled": false
   },
   "outputs": [
    {
     "data": {
      "image/png": "[encoded data removed]",
      "text/plain": [
       "<Figure size 576x576 with 2 Axes>"
      ]
     },
     "metadata": {},
     "output_type": "display_data"
    }
   ],
   "source": [
    "import numpy as np\n",
    "import matplotlib.pyplot as plt\n",
    "import seaborn as sns\n",
    "%matplotlib inline\n",
    "import warnings\n",
    "warnings.filterwarnings('ignore')\n",
    "sns.set_style('darkgrid')\n",
    "f, axes = plt.subplots (2,1, figsize=(8,8))\n",
    "x=['excellent','good','fair','salavage']\n",
    "y=[df.condition[(df['condition']=='excellent')].count(),df.condition[(df['condition']=='good')].count(),\\\n",
    "     df.condition[(df['condition']=='fair')].count(),df.condition[(df['condition']=='salavage')].count()]\n",
    "vis1= sns.barplot(x,y,palette='Accent',ax=axes[0])\n",
    "vis1.set(xlabel='Condition',ylabel='Number of cars')\n",
    "for p in vis1.patches:\n",
    "             vis1.annotate(\"%.f\" % p.get_height(), (p.get_x() + p.get_width() / 2., p.get_height()),\n",
    "                 ha='center', va='center', fontsize=11, color='gray', xytext=(0, 20),\n",
    "                 textcoords='offset points')\n",
    "NG = [df.condition[(df['condition']=='excellent')].count(),df.condition[(df['condition']=='good')].count(),\\\n",
    "     df.condition[(df['condition']=='fair')].count(),df.condition[(df['condition']=='salavage')].count()]\n",
    "G = ['excellent','good','fair','salavage']\n",
    "\n",
    "plt.pie(NG, labels=G, startangle=90, autopct='%.1f%%')\n",
    "plt.show()\n",
    "\n",
    "\n",
    "plt.ioff()"
   ]
  },
  {
   "cell_type": "code",
   "execution_count": 80,
   "metadata": {},
   "outputs": [
    {
     "data": {
      "text/plain": [
       "<matplotlib.axes._subplots.AxesSubplot at 0x2976b32d588>"
      ]
     },
     "execution_count": 80,
     "metadata": {},
     "output_type": "execute_result"
    },
    {
     "data": {
      "image/png": "[encoded data removed]",
      "text/plain": [
       "<Figure size 432x288 with 1 Axes>"
      ]
     },
     "metadata": {},
     "output_type": "display_data"
    }
   ],
   "source": [
    "df['Price'].plot.kde(bw_method=0.1)\n"
   ]
  },
  {
   "cell_type": "markdown",
   "metadata": {},
   "source": [
    "# Test and Hypothesis"
   ]
  },
  {
   "cell_type": "markdown",
   "metadata": {},
   "source": [
    "# Kilometers Driven vs Price"
   ]
  },
  {
   "cell_type": "markdown",
   "metadata": {},
   "source": [
    "*null hypothesis(H0):There is significant relation between Kilometers Driven and Price\n",
    "*Alternative Hypothesis(H):There is significant relation between Kilometers Driven and Price"
   ]
  },
  {
   "cell_type": "code",
   "execution_count": 81,
   "metadata": {},
   "outputs": [
    {
     "data": {
      "image/png": "[encoded data removed]",
      "text/plain": [
       "<Figure size 432x288 with 1 Axes>"
      ]
     },
     "metadata": {},
     "output_type": "display_data"
    }
   ],
   "source": [
    "plt.scatter(df.Kilometers_Driven, df.Price, alpha=0.3, s=5) \n",
    "\n",
    "plt.xlim(0, 150000)\n",
    "plt.ylim(0, 200)\n",
    "\n",
    "plt.xlabel('Kilometer_Driven')\n",
    "plt.ylabel('Price')\n",
    "plt.show()"
   ]
  },
  {
   "cell_type": "code",
   "execution_count": 82,
   "metadata": {},
   "outputs": [
    {
     "data": {
      "text/plain": [
       "LeveneResult(statistic=8941.42863792451, pvalue=0.0)"
      ]
     },
     "execution_count": 82,
     "metadata": {},
     "output_type": "execute_result"
    }
   ],
   "source": [
    "import scipy.stats\n",
    "scipy.stats.levene(df['Price'],df['Kilometers_Driven'])"
   ]
  },
  {
   "cell_type": "code",
   "execution_count": 83,
   "metadata": {},
   "outputs": [
    {
     "data": {
      "text/plain": [
       "Ttest_indResult(statistic=-150.83678466959512, pvalue=0.0)"
      ]
     },
     "execution_count": 83,
     "metadata": {},
     "output_type": "execute_result"
    }
   ],
   "source": [
    "scipy.stats.ttest_ind(df['Price'],df['Kilometers_Driven'],equal_var=False)"
   ]
  },
  {
   "cell_type": "code",
   "execution_count": 84,
   "metadata": {},
   "outputs": [
    {
     "data": {
      "text/plain": [
       "(0.6521393656730652, 0.0)"
      ]
     },
     "execution_count": 84,
     "metadata": {},
     "output_type": "execute_result"
    }
   ],
   "source": [
    "scipy.stats.shapiro(df['Price'])"
   ]
  },
  {
   "cell_type": "code",
   "execution_count": 85,
   "metadata": {},
   "outputs": [
    {
     "data": {
      "text/html": [
       "<div>\n",
       "<style scoped>\n",
       "    .dataframe tbody tr th:only-of-type {\n",
       "        vertical-align: middle;\n",
       "    }\n",
       "\n",
       "    .dataframe tbody tr th {\n",
       "        vertical-align: top;\n",
       "    }\n",
       "\n",
       "    .dataframe thead th {\n",
       "        text-align: right;\n",
       "    }\n",
       "</style>\n",
       "<table border=\"1\" class=\"dataframe\">\n",
       "  <thead>\n",
       "    <tr style=\"text-align: right;\">\n",
       "      <th></th>\n",
       "      <th>Variable</th>\n",
       "      <th>N</th>\n",
       "      <th>Mean</th>\n",
       "      <th>SD</th>\n",
       "      <th>SE</th>\n",
       "      <th>95% Conf.</th>\n",
       "      <th>Interval</th>\n",
       "    </tr>\n",
       "  </thead>\n",
       "  <tbody>\n",
       "    <tr>\n",
       "      <th>0</th>\n",
       "      <td>Kilometers_Driven</td>\n",
       "      <td>5543.0</td>\n",
       "      <td>55809.817788</td>\n",
       "      <td>27542.411992</td>\n",
       "      <td>369.938500</td>\n",
       "      <td>55084.593265</td>\n",
       "      <td>56535.042312</td>\n",
       "    </tr>\n",
       "    <tr>\n",
       "      <th>1</th>\n",
       "      <td>Price</td>\n",
       "      <td>5543.0</td>\n",
       "      <td>9.479594</td>\n",
       "      <td>10.879789</td>\n",
       "      <td>0.146133</td>\n",
       "      <td>9.193116</td>\n",
       "      <td>9.766072</td>\n",
       "    </tr>\n",
       "    <tr>\n",
       "      <th>2</th>\n",
       "      <td>combined</td>\n",
       "      <td>11086.0</td>\n",
       "      <td>27909.648691</td>\n",
       "      <td>34025.692206</td>\n",
       "      <td>323.161438</td>\n",
       "      <td>27276.194745</td>\n",
       "      <td>28543.102637</td>\n",
       "    </tr>\n",
       "  </tbody>\n",
       "</table>\n",
       "</div>"
      ],
      "text/plain": [
       "            Variable        N          Mean            SD          SE  \\\n",
       "0  Kilometers_Driven   5543.0  55809.817788  27542.411992  369.938500   \n",
       "1              Price   5543.0      9.479594     10.879789    0.146133   \n",
       "2           combined  11086.0  27909.648691  34025.692206  323.161438   \n",
       "\n",
       "      95% Conf.      Interval  \n",
       "0  55084.593265  56535.042312  \n",
       "1      9.193116      9.766072  \n",
       "2  27276.194745  28543.102637  "
      ]
     },
     "execution_count": 85,
     "metadata": {},
     "output_type": "execute_result"
    }
   ],
   "source": [
    "#independent t-test\n",
    "import researchpy as rp\n",
    "des,results=rp.ttest(df['Kilometers_Driven'],df['Price'])\n",
    "des"
   ]
  },
  {
   "cell_type": "code",
   "execution_count": 86,
   "metadata": {},
   "outputs": [
    {
     "data": {
      "text/html": [
       "<div>\n",
       "<style scoped>\n",
       "    .dataframe tbody tr th:only-of-type {\n",
       "        vertical-align: middle;\n",
       "    }\n",
       "\n",
       "    .dataframe tbody tr th {\n",
       "        vertical-align: top;\n",
       "    }\n",
       "\n",
       "    .dataframe thead th {\n",
       "        text-align: right;\n",
       "    }\n",
       "</style>\n",
       "<table border=\"1\" class=\"dataframe\">\n",
       "  <thead>\n",
       "    <tr style=\"text-align: right;\">\n",
       "      <th></th>\n",
       "      <th>Independent t-test</th>\n",
       "      <th>results</th>\n",
       "    </tr>\n",
       "  </thead>\n",
       "  <tbody>\n",
       "    <tr>\n",
       "      <th>0</th>\n",
       "      <td>Difference (Kilometers_Driven - Price) =</td>\n",
       "      <td>55800.3382</td>\n",
       "    </tr>\n",
       "    <tr>\n",
       "      <th>1</th>\n",
       "      <td>Degrees of freedom =</td>\n",
       "      <td>11084.0000</td>\n",
       "    </tr>\n",
       "    <tr>\n",
       "      <th>2</th>\n",
       "      <td>t =</td>\n",
       "      <td>150.8368</td>\n",
       "    </tr>\n",
       "    <tr>\n",
       "      <th>3</th>\n",
       "      <td>Two side test p value =</td>\n",
       "      <td>0.0000</td>\n",
       "    </tr>\n",
       "    <tr>\n",
       "      <th>4</th>\n",
       "      <td>Difference &lt; 0 p value =</td>\n",
       "      <td>1.0000</td>\n",
       "    </tr>\n",
       "    <tr>\n",
       "      <th>5</th>\n",
       "      <td>Difference &gt; 0 p value =</td>\n",
       "      <td>0.0000</td>\n",
       "    </tr>\n",
       "    <tr>\n",
       "      <th>6</th>\n",
       "      <td>Cohen's d =</td>\n",
       "      <td>2.8652</td>\n",
       "    </tr>\n",
       "    <tr>\n",
       "      <th>7</th>\n",
       "      <td>Hedge's g =</td>\n",
       "      <td>2.8650</td>\n",
       "    </tr>\n",
       "    <tr>\n",
       "      <th>8</th>\n",
       "      <td>Glass's delta =</td>\n",
       "      <td>2.0260</td>\n",
       "    </tr>\n",
       "    <tr>\n",
       "      <th>9</th>\n",
       "      <td>r =</td>\n",
       "      <td>0.8200</td>\n",
       "    </tr>\n",
       "  </tbody>\n",
       "</table>\n",
       "</div>"
      ],
      "text/plain": [
       "                          Independent t-test     results\n",
       "0  Difference (Kilometers_Driven - Price) =   55800.3382\n",
       "1                      Degrees of freedom =   11084.0000\n",
       "2                                       t =     150.8368\n",
       "3                   Two side test p value =       0.0000\n",
       "4                  Difference < 0 p value =       1.0000\n",
       "5                  Difference > 0 p value =       0.0000\n",
       "6                               Cohen's d =       2.8652\n",
       "7                               Hedge's g =       2.8650\n",
       "8                           Glass's delta =       2.0260\n",
       "9                                       r =       0.8200"
      ]
     },
     "execution_count": 86,
     "metadata": {},
     "output_type": "execute_result"
    }
   ],
   "source": [
    "results"
   ]
  },
  {
   "cell_type": "markdown",
   "metadata": {},
   "source": [
    "*Correlation is 0.8200 which means there is strong correlation between Kilometers Driven and Price.\n",
    "*Hence we reject null hypothesis\n",
    "*Therefore Alternate hypothesis is accepted there is significant relation between Kilometers Driven and Price"
   ]
  },
  {
   "cell_type": "markdown",
   "metadata": {},
   "source": [
    "# condition Vs Price"
   ]
  },
  {
   "cell_type": "markdown",
   "metadata": {},
   "source": [
    "*null hypothesis(H0):There is significant relation between condition and Price\n",
    "*Alternative Hypothesis(H):There is significant relation between condition and Price"
   ]
  },
  {
   "cell_type": "code",
   "execution_count": 87,
   "metadata": {},
   "outputs": [
    {
     "data": {
      "image/png": "[encoded data removed]",
      "text/plain": [
       "<Figure size 648x648 with 1 Axes>"
      ]
     },
     "metadata": {},
     "output_type": "display_data"
    }
   ],
   "source": [
    "f = plt.subplots ( figsize=(9,9))\n",
    "\n",
    "vis1 = sns.boxplot( data = df, x = 'condition', y = 'Price',  )\n",
    "vis1.set(xlabel='condition',ylabel='car prices')\n",
    "plt.ioff()"
   ]
  },
  {
   "cell_type": "code",
   "execution_count": 88,
   "metadata": {},
   "outputs": [
    {
     "data": {
      "text/html": [
       "<div>\n",
       "<style scoped>\n",
       "    .dataframe tbody tr th:only-of-type {\n",
       "        vertical-align: middle;\n",
       "    }\n",
       "\n",
       "    .dataframe tbody tr th {\n",
       "        vertical-align: top;\n",
       "    }\n",
       "\n",
       "    .dataframe thead th {\n",
       "        text-align: right;\n",
       "    }\n",
       "</style>\n",
       "<table border=\"1\" class=\"dataframe\">\n",
       "  <thead>\n",
       "    <tr style=\"text-align: right;\">\n",
       "      <th></th>\n",
       "      <th>count</th>\n",
       "      <th>mean</th>\n",
       "      <th>std</th>\n",
       "      <th>min</th>\n",
       "      <th>25%</th>\n",
       "      <th>50%</th>\n",
       "      <th>75%</th>\n",
       "      <th>max</th>\n",
       "    </tr>\n",
       "    <tr>\n",
       "      <th>condition</th>\n",
       "      <th></th>\n",
       "      <th></th>\n",
       "      <th></th>\n",
       "      <th></th>\n",
       "      <th></th>\n",
       "      <th></th>\n",
       "      <th></th>\n",
       "      <th></th>\n",
       "    </tr>\n",
       "  </thead>\n",
       "  <tbody>\n",
       "    <tr>\n",
       "      <th>excellent</th>\n",
       "      <td>312.0</td>\n",
       "      <td>31.811891</td>\n",
       "      <td>19.284879</td>\n",
       "      <td>2.02</td>\n",
       "      <td>16.725</td>\n",
       "      <td>29.350</td>\n",
       "      <td>42.7000</td>\n",
       "      <td>160.00</td>\n",
       "    </tr>\n",
       "    <tr>\n",
       "      <th>fair</th>\n",
       "      <td>1132.0</td>\n",
       "      <td>6.074488</td>\n",
       "      <td>7.348606</td>\n",
       "      <td>0.44</td>\n",
       "      <td>2.500</td>\n",
       "      <td>3.500</td>\n",
       "      <td>5.9025</td>\n",
       "      <td>64.75</td>\n",
       "    </tr>\n",
       "    <tr>\n",
       "      <th>good</th>\n",
       "      <td>3556.0</td>\n",
       "      <td>9.188034</td>\n",
       "      <td>8.966223</td>\n",
       "      <td>0.70</td>\n",
       "      <td>4.250</td>\n",
       "      <td>6.115</td>\n",
       "      <td>9.5800</td>\n",
       "      <td>85.00</td>\n",
       "    </tr>\n",
       "    <tr>\n",
       "      <th>salavage</th>\n",
       "      <td>543.0</td>\n",
       "      <td>5.655820</td>\n",
       "      <td>5.517087</td>\n",
       "      <td>0.45</td>\n",
       "      <td>2.250</td>\n",
       "      <td>3.650</td>\n",
       "      <td>7.0000</td>\n",
       "      <td>56.00</td>\n",
       "    </tr>\n",
       "  </tbody>\n",
       "</table>\n",
       "</div>"
      ],
      "text/plain": [
       "            count       mean        std   min     25%     50%      75%     max\n",
       "condition                                                                     \n",
       "excellent   312.0  31.811891  19.284879  2.02  16.725  29.350  42.7000  160.00\n",
       "fair       1132.0   6.074488   7.348606  0.44   2.500   3.500   5.9025   64.75\n",
       "good       3556.0   9.188034   8.966223  0.70   4.250   6.115   9.5800   85.00\n",
       "salavage    543.0   5.655820   5.517087  0.45   2.250   3.650   7.0000   56.00"
      ]
     },
     "execution_count": 88,
     "metadata": {},
     "output_type": "execute_result"
    }
   ],
   "source": [
    "df.groupby('condition')['Price'].describe()\n"
   ]
  },
  {
   "cell_type": "code",
   "execution_count": 89,
   "metadata": {},
   "outputs": [
    {
     "data": {
      "text/html": [
       "<div>\n",
       "<style scoped>\n",
       "    .dataframe tbody tr th:only-of-type {\n",
       "        vertical-align: middle;\n",
       "    }\n",
       "\n",
       "    .dataframe tbody tr th {\n",
       "        vertical-align: top;\n",
       "    }\n",
       "\n",
       "    .dataframe thead th {\n",
       "        text-align: right;\n",
       "    }\n",
       "</style>\n",
       "<table border=\"1\" class=\"dataframe\">\n",
       "  <thead>\n",
       "    <tr style=\"text-align: right;\">\n",
       "      <th></th>\n",
       "      <th>count</th>\n",
       "      <th>mean</th>\n",
       "      <th>std</th>\n",
       "      <th>min</th>\n",
       "      <th>25%</th>\n",
       "      <th>50%</th>\n",
       "      <th>75%</th>\n",
       "      <th>max</th>\n",
       "    </tr>\n",
       "    <tr>\n",
       "      <th>condition</th>\n",
       "      <th></th>\n",
       "      <th></th>\n",
       "      <th></th>\n",
       "      <th></th>\n",
       "      <th></th>\n",
       "      <th></th>\n",
       "      <th></th>\n",
       "      <th></th>\n",
       "    </tr>\n",
       "  </thead>\n",
       "  <tbody>\n",
       "    <tr>\n",
       "      <th>excellent</th>\n",
       "      <td>312.0</td>\n",
       "      <td>31.811891</td>\n",
       "      <td>19.284879</td>\n",
       "      <td>2.02</td>\n",
       "      <td>16.725</td>\n",
       "      <td>29.350</td>\n",
       "      <td>42.7000</td>\n",
       "      <td>160.00</td>\n",
       "    </tr>\n",
       "    <tr>\n",
       "      <th>fair</th>\n",
       "      <td>1132.0</td>\n",
       "      <td>6.074488</td>\n",
       "      <td>7.348606</td>\n",
       "      <td>0.44</td>\n",
       "      <td>2.500</td>\n",
       "      <td>3.500</td>\n",
       "      <td>5.9025</td>\n",
       "      <td>64.75</td>\n",
       "    </tr>\n",
       "    <tr>\n",
       "      <th>good</th>\n",
       "      <td>3556.0</td>\n",
       "      <td>9.188034</td>\n",
       "      <td>8.966223</td>\n",
       "      <td>0.70</td>\n",
       "      <td>4.250</td>\n",
       "      <td>6.115</td>\n",
       "      <td>9.5800</td>\n",
       "      <td>85.00</td>\n",
       "    </tr>\n",
       "    <tr>\n",
       "      <th>salavage</th>\n",
       "      <td>543.0</td>\n",
       "      <td>5.655820</td>\n",
       "      <td>5.517087</td>\n",
       "      <td>0.45</td>\n",
       "      <td>2.250</td>\n",
       "      <td>3.650</td>\n",
       "      <td>7.0000</td>\n",
       "      <td>56.00</td>\n",
       "    </tr>\n",
       "  </tbody>\n",
       "</table>\n",
       "</div>"
      ],
      "text/plain": [
       "            count       mean        std   min     25%     50%      75%     max\n",
       "condition                                                                     \n",
       "excellent   312.0  31.811891  19.284879  2.02  16.725  29.350  42.7000  160.00\n",
       "fair       1132.0   6.074488   7.348606  0.44   2.500   3.500   5.9025   64.75\n",
       "good       3556.0   9.188034   8.966223  0.70   4.250   6.115   9.5800   85.00\n",
       "salavage    543.0   5.655820   5.517087  0.45   2.250   3.650   7.0000   56.00"
      ]
     },
     "execution_count": 89,
     "metadata": {},
     "output_type": "execute_result"
    }
   ],
   "source": [
    "df.groupby('condition')['Price'].describe()\n"
   ]
  },
  {
   "cell_type": "code",
   "execution_count": 90,
   "metadata": {},
   "outputs": [
    {
     "name": "stdout",
     "output_type": "stream",
     "text": [
      "\n",
      "\n"
     ]
    },
    {
     "data": {
      "text/html": [
       "<div>\n",
       "<style scoped>\n",
       "    .dataframe tbody tr th:only-of-type {\n",
       "        vertical-align: middle;\n",
       "    }\n",
       "\n",
       "    .dataframe tbody tr th {\n",
       "        vertical-align: top;\n",
       "    }\n",
       "\n",
       "    .dataframe thead th {\n",
       "        text-align: right;\n",
       "    }\n",
       "</style>\n",
       "<table border=\"1\" class=\"dataframe\">\n",
       "  <thead>\n",
       "    <tr style=\"text-align: right;\">\n",
       "      <th></th>\n",
       "      <th>N</th>\n",
       "      <th>Mean</th>\n",
       "      <th>SD</th>\n",
       "      <th>SE</th>\n",
       "      <th>95% Conf.</th>\n",
       "      <th>Interval</th>\n",
       "    </tr>\n",
       "    <tr>\n",
       "      <th>condition</th>\n",
       "      <th></th>\n",
       "      <th></th>\n",
       "      <th></th>\n",
       "      <th></th>\n",
       "      <th></th>\n",
       "      <th></th>\n",
       "    </tr>\n",
       "  </thead>\n",
       "  <tbody>\n",
       "    <tr>\n",
       "      <th>excellent</th>\n",
       "      <td>312</td>\n",
       "      <td>31.811891</td>\n",
       "      <td>19.284879</td>\n",
       "      <td>1.091791</td>\n",
       "      <td>29.668543</td>\n",
       "      <td>33.955240</td>\n",
       "    </tr>\n",
       "    <tr>\n",
       "      <th>fair</th>\n",
       "      <td>1132</td>\n",
       "      <td>6.074488</td>\n",
       "      <td>7.348606</td>\n",
       "      <td>0.218415</td>\n",
       "      <td>5.646206</td>\n",
       "      <td>6.502770</td>\n",
       "    </tr>\n",
       "    <tr>\n",
       "      <th>good</th>\n",
       "      <td>3556</td>\n",
       "      <td>9.188034</td>\n",
       "      <td>8.966223</td>\n",
       "      <td>0.150359</td>\n",
       "      <td>8.893290</td>\n",
       "      <td>9.482779</td>\n",
       "    </tr>\n",
       "    <tr>\n",
       "      <th>salavage</th>\n",
       "      <td>543</td>\n",
       "      <td>5.655820</td>\n",
       "      <td>5.517087</td>\n",
       "      <td>0.236761</td>\n",
       "      <td>5.191340</td>\n",
       "      <td>6.120299</td>\n",
       "    </tr>\n",
       "  </tbody>\n",
       "</table>\n",
       "</div>"
      ],
      "text/plain": [
       "              N       Mean         SD        SE  95% Conf.   Interval\n",
       "condition                                                            \n",
       "excellent   312  31.811891  19.284879  1.091791  29.668543  33.955240\n",
       "fair       1132   6.074488   7.348606  0.218415   5.646206   6.502770\n",
       "good       3556   9.188034   8.966223  0.150359   8.893290   9.482779\n",
       "salavage    543   5.655820   5.517087  0.236761   5.191340   6.120299"
      ]
     },
     "execution_count": 90,
     "metadata": {},
     "output_type": "execute_result"
    }
   ],
   "source": [
    "import researchpy as rp\n",
    "rp.summary_cont(df.groupby('condition')['Price'])"
   ]
  },
  {
   "cell_type": "code",
   "execution_count": 91,
   "metadata": {},
   "outputs": [
    {
     "data": {
      "text/html": [
       "<table class=\"simpletable\">\n",
       "<caption>OLS Regression Results</caption>\n",
       "<tr>\n",
       "  <th>Dep. Variable:</th>          <td>Price</td>      <th>  R-squared:         </th> <td>   0.270</td> \n",
       "</tr>\n",
       "<tr>\n",
       "  <th>Model:</th>                   <td>OLS</td>       <th>  Adj. R-squared:    </th> <td>   0.269</td> \n",
       "</tr>\n",
       "<tr>\n",
       "  <th>Method:</th>             <td>Least Squares</td>  <th>  F-statistic:       </th> <td>   682.1</td> \n",
       "</tr>\n",
       "<tr>\n",
       "  <th>Date:</th>             <td>Tue, 14 Apr 2020</td> <th>  Prob (F-statistic):</th>  <td>  0.00</td>  \n",
       "</tr>\n",
       "<tr>\n",
       "  <th>Time:</th>                 <td>13:24:06</td>     <th>  Log-Likelihood:    </th> <td> -20224.</td> \n",
       "</tr>\n",
       "<tr>\n",
       "  <th>No. Observations:</th>      <td>  5543</td>      <th>  AIC:               </th> <td>4.046e+04</td>\n",
       "</tr>\n",
       "<tr>\n",
       "  <th>Df Residuals:</th>          <td>  5539</td>      <th>  BIC:               </th> <td>4.048e+04</td>\n",
       "</tr>\n",
       "<tr>\n",
       "  <th>Df Model:</th>              <td>     3</td>      <th>                     </th>     <td> </td>    \n",
       "</tr>\n",
       "<tr>\n",
       "  <th>Covariance Type:</th>      <td>nonrobust</td>    <th>                     </th>     <td> </td>    \n",
       "</tr>\n",
       "</table>\n",
       "<table class=\"simpletable\">\n",
       "<tr>\n",
       "            <td></td>               <th>coef</th>     <th>std err</th>      <th>t</th>      <th>P>|t|</th>  <th>[0.025</th>    <th>0.975]</th>  \n",
       "</tr>\n",
       "<tr>\n",
       "  <th>Intercept</th>             <td>   31.8119</td> <td>    0.526</td> <td>   60.423</td> <td> 0.000</td> <td>   30.780</td> <td>   32.844</td>\n",
       "</tr>\n",
       "<tr>\n",
       "  <th>condition[T.fair]</th>     <td>  -25.7374</td> <td>    0.595</td> <td>  -43.283</td> <td> 0.000</td> <td>  -26.903</td> <td>  -24.572</td>\n",
       "</tr>\n",
       "<tr>\n",
       "  <th>condition[T.good]</th>     <td>  -22.6239</td> <td>    0.549</td> <td>  -41.202</td> <td> 0.000</td> <td>  -23.700</td> <td>  -21.547</td>\n",
       "</tr>\n",
       "<tr>\n",
       "  <th>condition[T.salavage]</th> <td>  -26.1561</td> <td>    0.661</td> <td>  -39.591</td> <td> 0.000</td> <td>  -27.451</td> <td>  -24.861</td>\n",
       "</tr>\n",
       "</table>\n",
       "<table class=\"simpletable\">\n",
       "<tr>\n",
       "  <th>Omnibus:</th>       <td>3629.128</td> <th>  Durbin-Watson:     </th> <td>   1.976</td> \n",
       "</tr>\n",
       "<tr>\n",
       "  <th>Prob(Omnibus):</th>  <td> 0.000</td>  <th>  Jarque-Bera (JB):  </th> <td>64046.310</td>\n",
       "</tr>\n",
       "<tr>\n",
       "  <th>Skew:</th>           <td> 2.875</td>  <th>  Prob(JB):          </th> <td>    0.00</td> \n",
       "</tr>\n",
       "<tr>\n",
       "  <th>Kurtosis:</th>       <td>18.628</td>  <th>  Cond. No.          </th> <td>    10.7</td> \n",
       "</tr>\n",
       "</table><br/><br/>Warnings:<br/>[1] Standard Errors assume that the covariance matrix of the errors is correctly specified."
      ],
      "text/plain": [
       "<class 'statsmodels.iolib.summary.Summary'>\n",
       "\"\"\"\n",
       "                            OLS Regression Results                            \n",
       "==============================================================================\n",
       "Dep. Variable:                  Price   R-squared:                       0.270\n",
       "Model:                            OLS   Adj. R-squared:                  0.269\n",
       "Method:                 Least Squares   F-statistic:                     682.1\n",
       "Date:                Tue, 14 Apr 2020   Prob (F-statistic):               0.00\n",
       "Time:                        13:24:06   Log-Likelihood:                -20224.\n",
       "No. Observations:                5543   AIC:                         4.046e+04\n",
       "Df Residuals:                    5539   BIC:                         4.048e+04\n",
       "Df Model:                           3                                         \n",
       "Covariance Type:            nonrobust                                         \n",
       "=========================================================================================\n",
       "                            coef    std err          t      P>|t|      [0.025      0.975]\n",
       "-----------------------------------------------------------------------------------------\n",
       "Intercept                31.8119      0.526     60.423      0.000      30.780      32.844\n",
       "condition[T.fair]       -25.7374      0.595    -43.283      0.000     -26.903     -24.572\n",
       "condition[T.good]       -22.6239      0.549    -41.202      0.000     -23.700     -21.547\n",
       "condition[T.salavage]   -26.1561      0.661    -39.591      0.000     -27.451     -24.861\n",
       "==============================================================================\n",
       "Omnibus:                     3629.128   Durbin-Watson:                   1.976\n",
       "Prob(Omnibus):                  0.000   Jarque-Bera (JB):            64046.310\n",
       "Skew:                           2.875   Prob(JB):                         0.00\n",
       "Kurtosis:                      18.628   Cond. No.                         10.7\n",
       "==============================================================================\n",
       "\n",
       "Warnings:\n",
       "[1] Standard Errors assume that the covariance matrix of the errors is correctly specified.\n",
       "\"\"\""
      ]
     },
     "execution_count": 91,
     "metadata": {},
     "output_type": "execute_result"
    }
   ],
   "source": [
    "#test for auto correlation\n",
    "import statsmodels.formula.api as smf\n",
    "dat= smf.ols('Price ~ condition',df).fit()\n",
    "dat.summary()"
   ]
  },
  {
   "cell_type": "code",
   "execution_count": 92,
   "metadata": {},
   "outputs": [
    {
     "data": {
      "text/plain": [
       "Intercept                 0.000000e+00\n",
       "condition[T.fair]         0.000000e+00\n",
       "condition[T.good]         0.000000e+00\n",
       "condition[T.salavage]    4.330343e-302\n",
       "dtype: float64"
      ]
     },
     "execution_count": 92,
     "metadata": {},
     "output_type": "execute_result"
    }
   ],
   "source": [
    "dat.pvalues"
   ]
  },
  {
   "cell_type": "markdown",
   "metadata": {},
   "source": [
    "Durbin_Watson value is 1.976 .\n",
    "Durbin_Watson range (0,2)---Positive correlation.\n",
    "1.976 is weak positive .\n",
    "So, we cannot reject null hypothesis.\n",
    "There might be non linear relation between condition and Price.\n",
    "There is no significant relation between condition and Price."
   ]
  },
  {
   "cell_type": "markdown",
   "metadata": {},
   "source": [
    "# MODEL BUILDING"
   ]
  },
  {
   "cell_type": "code",
   "execution_count": 93,
   "metadata": {
    "scrolled": true
   },
   "outputs": [
    {
     "data": {
      "text/plain": [
       "['Fuel_Type', 'Transmission', 'Owner_Type', 'feature_mfg_date', 'condition']"
      ]
     },
     "execution_count": 93,
     "metadata": {},
     "output_type": "execute_result"
    }
   ],
   "source": [
    "# selecting columns with object data type\n",
    "s=df.dtypes=='object'\n",
    "obj_col=list(s[s].index)\n",
    "obj_col=obj_col[1:]\n",
    "obj_col"
   ]
  },
  {
   "cell_type": "code",
   "execution_count": 94,
   "metadata": {},
   "outputs": [],
   "source": [
    "# LABEL ENCODING\n",
    "from sklearn.preprocessing import LabelEncoder\n",
    "le=LabelEncoder()\n",
    "dfcpy=df.copy()\n",
    "for i in obj_col:\n",
    "    dfcpy[i]=le.fit_transform(df[i])\n",
    "    "
   ]
  },
  {
   "cell_type": "code",
   "execution_count": 95,
   "metadata": {},
   "outputs": [],
   "source": [
    "X=dfcpy[['Year','Kilometers_Driven','Fuel_Type','Transmission','Owner_Type','Mileage',\n",
    "    'Engine','Power','Seats']]"
   ]
  },
  {
   "cell_type": "code",
   "execution_count": 96,
   "metadata": {},
   "outputs": [],
   "source": [
    "y=dfcpy[['Price']]"
   ]
  },
  {
   "cell_type": "code",
   "execution_count": 97,
   "metadata": {},
   "outputs": [],
   "source": [
    "from sklearn.model_selection import train_test_split as ttt\n",
    "X_train,X_test,y_train,y_test=ttt(X,y,train_size=0.7,random_state=100)"
   ]
  },
  {
   "cell_type": "markdown",
   "metadata": {},
   "source": [
    "## Random Forest Regression"
   ]
  },
  {
   "cell_type": "code",
   "execution_count": 98,
   "metadata": {},
   "outputs": [
    {
     "data": {
      "text/plain": [
       "RandomForestRegressor(bootstrap=True, ccp_alpha=0.0, criterion='mse',\n",
       "                      max_depth=None, max_features='auto', max_leaf_nodes=None,\n",
       "                      max_samples=None, min_impurity_decrease=0.0,\n",
       "                      min_impurity_split=None, min_samples_leaf=1,\n",
       "                      min_samples_split=2, min_weight_fraction_leaf=0.0,\n",
       "                      n_estimators=100, n_jobs=None, oob_score=False,\n",
       "                      random_state=100, verbose=0, warm_start=False)"
      ]
     },
     "execution_count": 98,
     "metadata": {},
     "output_type": "execute_result"
    }
   ],
   "source": [
    "from sklearn.ensemble import RandomForestRegressor\n",
    "cls=RandomForestRegressor(random_state=100)\n",
    "cls.fit(X_train,y_train)"
   ]
  },
  {
   "cell_type": "code",
   "execution_count": 99,
   "metadata": {},
   "outputs": [],
   "source": [
    "y_pred=cls.predict(X_test)"
   ]
  },
  {
   "cell_type": "code",
   "execution_count": 100,
   "metadata": {},
   "outputs": [
    {
     "name": "stdout",
     "output_type": "stream",
     "text": [
      "Mean Squared Error  --> 15.585606197562184\n",
      "Mean Absolute Error --> 1.6412863241989522\n",
      "R Square Score      --> 0.8768983446169635\n"
     ]
    }
   ],
   "source": [
    "#from sklearn.metrics import confusion_matrix, accuracy_score\n",
    "#print(cmm=confusion_matrix(y_test,y_pred))\n",
    "#acc=accuracy_score(y_test,y_pred)\n",
    "from sklearn.metrics import mean_squared_error, mean_absolute_error, r2_score\n",
    "rmse=mean_squared_error(y_test,y_pred)\n",
    "mae=mean_absolute_error(y_test,y_pred)\n",
    "r2=r2_score(y_test,y_pred)\n",
    "print('Mean Squared Error  -->',rmse)\n",
    "print('Mean Absolute Error -->',mae)\n",
    "print('R Square Score      -->',r2)"
   ]
  },
  {
   "cell_type": "code",
   "execution_count": 101,
   "metadata": {},
   "outputs": [
    {
     "data": {
      "image/png": "[encoded data removed]",
      "text/plain": [
       "<Figure size 432x288 with 1 Axes>"
      ]
     },
     "metadata": {},
     "output_type": "display_data"
    }
   ],
   "source": [
    "# Plotting y_test and y_pred to understand the spread.\n",
    "fig = plt.figure()\n",
    "plt.scatter(y_test,y_pred,color='black')\n",
    "fig.suptitle('y_test vs y_pred', fontsize=15)              # Plot heading \n",
    "plt.xlabel('y_test', fontsize=13)                          # X-label\n",
    "plt.ylabel('y_pred', fontsize=13)                          # Y-label\n",
    "plt.show()"
   ]
  },
  {
   "cell_type": "code",
   "execution_count": 102,
   "metadata": {
    "scrolled": false
   },
   "outputs": [
    {
     "data": {
      "image/png": "[encoded data removed]",
      "text/plain": [
       "<Figure size 1008x432 with 1 Axes>"
      ]
     },
     "metadata": {},
     "output_type": "display_data"
    }
   ],
   "source": [
    "c=[i for i in range(1,1664,1)]\n",
    "plt.figure(figsize=(14,6))\n",
    "plt.plot(c,y_pred,color='r')\n",
    "plt.plot(c,y_test,color='b')\n",
    "plt.title('Actual vs Predicted',fontsize=15)\n",
    "plt.xlabel('Index',fontsize=13)\n",
    "plt.ylabel('Price',fontsize=13)  \n",
    "plt.show()"
   ]
  },
  {
   "cell_type": "markdown",
   "metadata": {},
   "source": [
    "# Linear Regression"
   ]
  },
  {
   "cell_type": "code",
   "execution_count": 103,
   "metadata": {},
   "outputs": [
    {
     "data": {
      "text/plain": [
       "LinearRegression(copy_X=True, fit_intercept=True, n_jobs=None, normalize=False)"
      ]
     },
     "execution_count": 103,
     "metadata": {},
     "output_type": "execute_result"
    }
   ],
   "source": [
    "from sklearn.linear_model import LinearRegression\n",
    "cls=LinearRegression()\n",
    "cls.fit(X_train,y_train)"
   ]
  },
  {
   "cell_type": "code",
   "execution_count": 104,
   "metadata": {},
   "outputs": [
    {
     "name": "stdout",
     "output_type": "stream",
     "text": [
      "RMSE is {} 5.931932647756507\n",
      "R2 score is {} 0.6935012686443476\n",
      "\n",
      "\n",
      "RMSE is {} 6.099190597532008\n",
      "R2 score is {} 0.7061778010914941\n"
     ]
    }
   ],
   "source": [
    "y_train_predict=cls.predict(X_train)\n",
    "rmse=(np.sqrt(mean_squared_error(y_train,y_train_predict)))\n",
    "r2=r2_score(y_train,y_train_predict)\n",
    "print('RMSE is {}',format(rmse))\n",
    "print('R2 score is {}',format(r2))\n",
    "print('\\n')\n",
    "y_test_predict=cls.predict(X_test)\n",
    "rmse=(np.sqrt(mean_squared_error(y_test,y_test_predict)))\n",
    "r2=r2_score(y_test,y_test_predict)\n",
    "print('RMSE is {}',format(rmse))\n",
    "print('R2 score is {}',format(r2))"
   ]
  },
  {
   "cell_type": "code",
   "execution_count": 105,
   "metadata": {},
   "outputs": [
    {
     "data": {
      "image/png": "[encoded data removed]",
      "text/plain": [
       "<Figure size 432x288 with 1 Axes>"
      ]
     },
     "metadata": {},
     "output_type": "display_data"
    }
   ],
   "source": [
    "plt.scatter(y_test,y_test_predict)\n",
    "plt.show()"
   ]
  },
  {
   "cell_type": "code",
   "execution_count": 106,
   "metadata": {},
   "outputs": [
    {
     "data": {
      "image/png": "[encoded data removed]",
      "text/plain": [
       "<Figure size 1008x432 with 1 Axes>"
      ]
     },
     "metadata": {},
     "output_type": "display_data"
    }
   ],
   "source": [
    "c=[i for i in range(1,1664,1)]\n",
    "plt.figure(figsize=(14,6))\n",
    "plt.plot(c,y_test_predict,color='r')\n",
    "plt.plot(c,y_test,color='b')\n",
    "plt.title('Actual vs Predicted',fontsize=15)\n",
    "plt.xlabel('Index',fontsize=13)\n",
    "plt.ylabel('Price',fontsize=13)  \n",
    "plt.show()"
   ]
  },
  {
   "cell_type": "markdown",
   "metadata": {},
   "source": [
    "Conclusion:\n",
    "Random Forrest is the best model for the data set"
   ]
  },
  {
   "cell_type": "markdown",
   "metadata": {},
   "source": [
    "# Test Dataset"
   ]
  },
  {
   "cell_type": "markdown",
   "metadata": {},
   "source": [
    "## Data pre-processing"
   ]
  },
  {
   "cell_type": "code",
   "execution_count": 107,
   "metadata": {
    "scrolled": false
   },
   "outputs": [
    {
     "data": {
      "text/html": [
       "<div>\n",
       "<style scoped>\n",
       "    .dataframe tbody tr th:only-of-type {\n",
       "        vertical-align: middle;\n",
       "    }\n",
       "\n",
       "    .dataframe tbody tr th {\n",
       "        vertical-align: top;\n",
       "    }\n",
       "\n",
       "    .dataframe thead th {\n",
       "        text-align: right;\n",
       "    }\n",
       "</style>\n",
       "<table border=\"1\" class=\"dataframe\">\n",
       "  <thead>\n",
       "    <tr style=\"text-align: right;\">\n",
       "      <th></th>\n",
       "      <th>Name</th>\n",
       "      <th>Location</th>\n",
       "      <th>Year</th>\n",
       "      <th>Kilometers_Driven</th>\n",
       "      <th>Fuel_Type</th>\n",
       "      <th>Transmission</th>\n",
       "      <th>Owner_Type</th>\n",
       "      <th>Mileage</th>\n",
       "      <th>Engine</th>\n",
       "      <th>Power</th>\n",
       "      <th>Seats</th>\n",
       "    </tr>\n",
       "  </thead>\n",
       "  <tbody>\n",
       "    <tr>\n",
       "      <th>0</th>\n",
       "      <td>Maruti Alto K10 LXI CNG</td>\n",
       "      <td>Delhi</td>\n",
       "      <td>2014</td>\n",
       "      <td>40929</td>\n",
       "      <td>CNG</td>\n",
       "      <td>Manual</td>\n",
       "      <td>First</td>\n",
       "      <td>32.26 km/kg</td>\n",
       "      <td>998 CC</td>\n",
       "      <td>58.2 bhp</td>\n",
       "      <td>4.0</td>\n",
       "    </tr>\n",
       "    <tr>\n",
       "      <th>1</th>\n",
       "      <td>Maruti Alto 800 2016-2019 LXI</td>\n",
       "      <td>Coimbatore</td>\n",
       "      <td>2013</td>\n",
       "      <td>54493</td>\n",
       "      <td>Petrol</td>\n",
       "      <td>Manual</td>\n",
       "      <td>Second</td>\n",
       "      <td>24.7 kmpl</td>\n",
       "      <td>796 CC</td>\n",
       "      <td>47.3 bhp</td>\n",
       "      <td>5.0</td>\n",
       "    </tr>\n",
       "    <tr>\n",
       "      <th>2</th>\n",
       "      <td>Toyota Innova Crysta Touring Sport 2.4 MT</td>\n",
       "      <td>Mumbai</td>\n",
       "      <td>2017</td>\n",
       "      <td>34000</td>\n",
       "      <td>Diesel</td>\n",
       "      <td>Manual</td>\n",
       "      <td>First</td>\n",
       "      <td>13.68 kmpl</td>\n",
       "      <td>2393 CC</td>\n",
       "      <td>147.8 bhp</td>\n",
       "      <td>7.0</td>\n",
       "    </tr>\n",
       "    <tr>\n",
       "      <th>3</th>\n",
       "      <td>Toyota Etios Liva GD</td>\n",
       "      <td>Hyderabad</td>\n",
       "      <td>2012</td>\n",
       "      <td>139000</td>\n",
       "      <td>Diesel</td>\n",
       "      <td>Manual</td>\n",
       "      <td>First</td>\n",
       "      <td>23.59 kmpl</td>\n",
       "      <td>1364 CC</td>\n",
       "      <td>null bhp</td>\n",
       "      <td>5.0</td>\n",
       "    </tr>\n",
       "    <tr>\n",
       "      <th>4</th>\n",
       "      <td>Hyundai i20 Magna</td>\n",
       "      <td>Mumbai</td>\n",
       "      <td>2014</td>\n",
       "      <td>29000</td>\n",
       "      <td>Petrol</td>\n",
       "      <td>Manual</td>\n",
       "      <td>First</td>\n",
       "      <td>18.5 kmpl</td>\n",
       "      <td>1197 CC</td>\n",
       "      <td>82.85 bhp</td>\n",
       "      <td>5.0</td>\n",
       "    </tr>\n",
       "  </tbody>\n",
       "</table>\n",
       "</div>"
      ],
      "text/plain": [
       "                                        Name    Location  Year  \\\n",
       "0                    Maruti Alto K10 LXI CNG       Delhi  2014   \n",
       "1              Maruti Alto 800 2016-2019 LXI  Coimbatore  2013   \n",
       "2  Toyota Innova Crysta Touring Sport 2.4 MT      Mumbai  2017   \n",
       "3                       Toyota Etios Liva GD   Hyderabad  2012   \n",
       "4                          Hyundai i20 Magna      Mumbai  2014   \n",
       "\n",
       "   Kilometers_Driven Fuel_Type Transmission Owner_Type      Mileage   Engine  \\\n",
       "0              40929       CNG       Manual      First  32.26 km/kg   998 CC   \n",
       "1              54493    Petrol       Manual     Second    24.7 kmpl   796 CC   \n",
       "2              34000    Diesel       Manual      First   13.68 kmpl  2393 CC   \n",
       "3             139000    Diesel       Manual      First   23.59 kmpl  1364 CC   \n",
       "4              29000    Petrol       Manual      First    18.5 kmpl  1197 CC   \n",
       "\n",
       "       Power  Seats  \n",
       "0   58.2 bhp    4.0  \n",
       "1   47.3 bhp    5.0  \n",
       "2  147.8 bhp    7.0  \n",
       "3   null bhp    5.0  \n",
       "4  82.85 bhp    5.0  "
      ]
     },
     "execution_count": 107,
     "metadata": {},
     "output_type": "execute_result"
    }
   ],
   "source": [
    "df_test=pd.read_csv('Data_Test.csv')\n",
    "df_test.head()"
   ]
  },
  {
   "cell_type": "code",
   "execution_count": 108,
   "metadata": {
    "scrolled": true
   },
   "outputs": [
    {
     "name": "stdout",
     "output_type": "stream",
     "text": [
      "<class 'pandas.core.frame.DataFrame'>\n",
      "RangeIndex: 1234 entries, 0 to 1233\n",
      "Data columns (total 11 columns):\n",
      " #   Column             Non-Null Count  Dtype  \n",
      "---  ------             --------------  -----  \n",
      " 0   Name               1234 non-null   object \n",
      " 1   Location           1234 non-null   object \n",
      " 2   Year               1234 non-null   int64  \n",
      " 3   Kilometers_Driven  1234 non-null   int64  \n",
      " 4   Fuel_Type          1234 non-null   object \n",
      " 5   Transmission       1234 non-null   object \n",
      " 6   Owner_Type         1234 non-null   object \n",
      " 7   Mileage            1234 non-null   object \n",
      " 8   Engine             1224 non-null   object \n",
      " 9   Power              1224 non-null   object \n",
      " 10  Seats              1223 non-null   float64\n",
      "dtypes: float64(1), int64(2), object(8)\n",
      "memory usage: 106.2+ KB\n"
     ]
    }
   ],
   "source": [
    "df_test.info()"
   ]
  },
  {
   "cell_type": "code",
   "execution_count": 109,
   "metadata": {},
   "outputs": [],
   "source": [
    "df_test=df_test.dropna()"
   ]
  },
  {
   "cell_type": "code",
   "execution_count": 110,
   "metadata": {
    "scrolled": true
   },
   "outputs": [
    {
     "data": {
      "text/plain": [
       "Name                 0\n",
       "Location             0\n",
       "Year                 0\n",
       "Kilometers_Driven    0\n",
       "Fuel_Type            0\n",
       "Transmission         0\n",
       "Owner_Type           0\n",
       "Mileage              0\n",
       "Engine               0\n",
       "Power                0\n",
       "Seats                0\n",
       "dtype: int64"
      ]
     },
     "execution_count": 110,
     "metadata": {},
     "output_type": "execute_result"
    }
   ],
   "source": [
    "df_test.isnull().sum()"
   ]
  },
  {
   "cell_type": "code",
   "execution_count": 111,
   "metadata": {},
   "outputs": [],
   "source": [
    "\n",
    "df_test.drop(['Location'],axis=1)\n",
    "df_test=df_test.reset_index()\n",
    "df_test=df_test.drop(['index'],axis=1)\n"
   ]
  },
  {
   "cell_type": "code",
   "execution_count": 112,
   "metadata": {},
   "outputs": [],
   "source": [
    "df_test['Mileage']=df_test['Mileage'].astype(str)\n",
    "df_test['Engine']=df_test['Engine'].astype(str)\n",
    "df_test['Power']=df_test['Power'].astype(str)\n",
    "df_test['Mileage']=df_test['Mileage'].str.replace('kmpl','')\n",
    "df_test['Mileage']=df_test['Mileage'].str.replace('km/kg','')\n",
    "df_test['Engine']=df_test['Engine'].str.replace('CC','')\n",
    "df_test['Power']=df_test['Power'].str.replace('bhp','')\n",
    "\n"
   ]
  },
  {
   "cell_type": "code",
   "execution_count": 113,
   "metadata": {},
   "outputs": [],
   "source": [
    "df_test['Power']=df_test['Power'].astype(str)\n",
    "drop=df_test.loc[df_test.Power.str.contains('null ')].index\n",
    "#drop1=df_test.loc[df_test.Power.str.contains('NaN ')].index\n",
    "df_test.drop(drop,inplace=True)\n",
    "#df_test.drop(drop1,inplace=True)\n",
    "df_test=df_test[df_test['Kilometers_Driven']<150000]\n",
    "df_test=df_test[df_test['Kilometers_Driven']>=10000]\n",
    "df_test=df_test[df_test['Mileage']!=0]\n"
   ]
  },
  {
   "cell_type": "code",
   "execution_count": 114,
   "metadata": {},
   "outputs": [],
   "source": [
    "df_test['Mileage']=pd.to_numeric(df['Mileage'],downcast='float')\n",
    "df_test['Engine']=pd.to_numeric(df['Engine'],downcast='float')\n",
    "df_test['Power']=pd.to_numeric(df['Power'],downcast='float')\n",
    "null_values=df_test[df_test['Mileage']==0].index\n",
    "df_test.drop(null_values,inplace=True)\n"
   ]
  },
  {
   "cell_type": "code",
   "execution_count": 115,
   "metadata": {},
   "outputs": [],
   "source": [
    "df_test=df_test.dropna(how='any',subset=['Mileage','Engine','Power'])\n"
   ]
  },
  {
   "cell_type": "code",
   "execution_count": 116,
   "metadata": {},
   "outputs": [
    {
     "data": {
      "text/plain": [
       "(1048, 11)"
      ]
     },
     "execution_count": 116,
     "metadata": {},
     "output_type": "execute_result"
    }
   ],
   "source": [
    "df_test.shape"
   ]
  },
  {
   "cell_type": "code",
   "execution_count": 117,
   "metadata": {},
   "outputs": [
    {
     "data": {
      "text/plain": [
       "['Fuel_Type', 'Transmission', 'Owner_Type']"
      ]
     },
     "execution_count": 117,
     "metadata": {},
     "output_type": "execute_result"
    }
   ],
   "source": [
    "#selecting col with object data type\n",
    "q=df_test.dtypes=='object'\n",
    "cols_obj=list(q[q].index)\n",
    "cols_obj=cols_obj[2:]\n",
    "cols_obj"
   ]
  },
  {
   "cell_type": "code",
   "execution_count": 118,
   "metadata": {},
   "outputs": [],
   "source": [
    "#label encoding\n",
    "df_test_cpy=df_test.copy()\n",
    "for i in cols_obj:\n",
    "    df_test_cpy[i]=le.fit_transform(df_test[i])"
   ]
  },
  {
   "cell_type": "code",
   "execution_count": 119,
   "metadata": {},
   "outputs": [],
   "source": [
    "Xx_test=df_test_cpy[['Year','Kilometers_Driven','Fuel_Type','Transmission','Owner_Type','Mileage',\n",
    "    'Engine','Power','Seats']]"
   ]
  },
  {
   "cell_type": "code",
   "execution_count": 120,
   "metadata": {
    "scrolled": true
   },
   "outputs": [
    {
     "data": {
      "text/html": [
       "<div>\n",
       "<style scoped>\n",
       "    .dataframe tbody tr th:only-of-type {\n",
       "        vertical-align: middle;\n",
       "    }\n",
       "\n",
       "    .dataframe tbody tr th {\n",
       "        vertical-align: top;\n",
       "    }\n",
       "\n",
       "    .dataframe thead th {\n",
       "        text-align: right;\n",
       "    }\n",
       "</style>\n",
       "<table border=\"1\" class=\"dataframe\">\n",
       "  <thead>\n",
       "    <tr style=\"text-align: right;\">\n",
       "      <th></th>\n",
       "      <th>Year</th>\n",
       "      <th>Kilometers_Driven</th>\n",
       "      <th>Fuel_Type</th>\n",
       "      <th>Transmission</th>\n",
       "      <th>Owner_Type</th>\n",
       "      <th>Mileage</th>\n",
       "      <th>Engine</th>\n",
       "      <th>Power</th>\n",
       "      <th>Seats</th>\n",
       "    </tr>\n",
       "  </thead>\n",
       "  <tbody>\n",
       "    <tr>\n",
       "      <th>0</th>\n",
       "      <td>2014</td>\n",
       "      <td>40929</td>\n",
       "      <td>0</td>\n",
       "      <td>1</td>\n",
       "      <td>0</td>\n",
       "      <td>26.600000</td>\n",
       "      <td>998.0</td>\n",
       "      <td>58.160000</td>\n",
       "      <td>4.0</td>\n",
       "    </tr>\n",
       "    <tr>\n",
       "      <th>1</th>\n",
       "      <td>2013</td>\n",
       "      <td>54493</td>\n",
       "      <td>3</td>\n",
       "      <td>1</td>\n",
       "      <td>2</td>\n",
       "      <td>19.670000</td>\n",
       "      <td>1582.0</td>\n",
       "      <td>126.199997</td>\n",
       "      <td>5.0</td>\n",
       "    </tr>\n",
       "    <tr>\n",
       "      <th>2</th>\n",
       "      <td>2017</td>\n",
       "      <td>34000</td>\n",
       "      <td>1</td>\n",
       "      <td>1</td>\n",
       "      <td>0</td>\n",
       "      <td>18.200001</td>\n",
       "      <td>1199.0</td>\n",
       "      <td>88.699997</td>\n",
       "      <td>7.0</td>\n",
       "    </tr>\n",
       "  </tbody>\n",
       "</table>\n",
       "</div>"
      ],
      "text/plain": [
       "   Year  Kilometers_Driven  Fuel_Type  Transmission  Owner_Type    Mileage  \\\n",
       "0  2014              40929          0             1           0  26.600000   \n",
       "1  2013              54493          3             1           2  19.670000   \n",
       "2  2017              34000          1             1           0  18.200001   \n",
       "\n",
       "   Engine       Power  Seats  \n",
       "0   998.0   58.160000    4.0  \n",
       "1  1582.0  126.199997    5.0  \n",
       "2  1199.0   88.699997    7.0  "
      ]
     },
     "execution_count": 120,
     "metadata": {},
     "output_type": "execute_result"
    }
   ],
   "source": [
    "Xx_test.head(3)"
   ]
  },
  {
   "cell_type": "code",
   "execution_count": 121,
   "metadata": {
    "scrolled": false
   },
   "outputs": [
    {
     "data": {
      "text/plain": [
       "(array([], dtype=int64), array([], dtype=int64))"
      ]
     },
     "execution_count": 121,
     "metadata": {},
     "output_type": "execute_result"
    }
   ],
   "source": [
    "np.where(np.isnan(X_test))"
   ]
  },
  {
   "cell_type": "code",
   "execution_count": 122,
   "metadata": {
    "scrolled": false
   },
   "outputs": [
    {
     "data": {
      "text/plain": [
       "(array([], dtype=int64), array([], dtype=int64))"
      ]
     },
     "execution_count": 122,
     "metadata": {},
     "output_type": "execute_result"
    }
   ],
   "source": [
    "np.where(np.isnan(X))"
   ]
  },
  {
   "cell_type": "markdown",
   "metadata": {},
   "source": [
    "# Implementation of  RandomForest using scikit"
   ]
  },
  {
   "cell_type": "code",
   "execution_count": 123,
   "metadata": {
    "scrolled": true
   },
   "outputs": [
    {
     "data": {
      "text/plain": [
       "RandomForestRegressor(bootstrap=True, ccp_alpha=0.0, criterion='mse',\n",
       "                      max_depth=None, max_features='auto', max_leaf_nodes=None,\n",
       "                      max_samples=None, min_impurity_decrease=0.0,\n",
       "                      min_impurity_split=None, min_samples_leaf=1,\n",
       "                      min_samples_split=2, min_weight_fraction_leaf=0.0,\n",
       "                      n_estimators=100, n_jobs=None, oob_score=False,\n",
       "                      random_state=100, verbose=0, warm_start=False)"
      ]
     },
     "execution_count": 123,
     "metadata": {},
     "output_type": "execute_result"
    }
   ],
   "source": [
    "from sklearn.ensemble import RandomForestRegressor\n",
    "regr_test=RandomForestRegressor(random_state=100)\n",
    "regr_test.fit(X,y)"
   ]
  },
  {
   "cell_type": "code",
   "execution_count": 124,
   "metadata": {},
   "outputs": [],
   "source": [
    "ytest_pred=regr_test.predict(Xx_test)"
   ]
  },
  {
   "cell_type": "code",
   "execution_count": 125,
   "metadata": {},
   "outputs": [
    {
     "data": {
      "text/plain": [
       "array([ 3.2399    ,  5.4098    ,  7.3383    , 10.09405   ,  3.099     ,\n",
       "        3.6587    , 17.8366    ,  4.0171    ,  4.458     ,  3.9823    ,\n",
       "        8.3506    ,  1.9688    , 12.023     , 14.9604    ,  5.0157    ,\n",
       "        3.22306667,  7.5363    , 27.4663    ,  3.103     , 25.659     ])"
      ]
     },
     "execution_count": 125,
     "metadata": {},
     "output_type": "execute_result"
    }
   ],
   "source": [
    "ytest_pred[0:20]"
   ]
  },
  {
   "cell_type": "code",
   "execution_count": 128,
   "metadata": {},
   "outputs": [],
   "source": [
    "df_test['Price']=ytest_pred"
   ]
  },
  {
   "cell_type": "markdown",
   "metadata": {},
   "source": [
    "# Result: The predicted prices of the cars"
   ]
  },
  {
   "cell_type": "code",
   "execution_count": 129,
   "metadata": {},
   "outputs": [
    {
     "data": {
      "text/html": [
       "<div>\n",
       "<style scoped>\n",
       "    .dataframe tbody tr th:only-of-type {\n",
       "        vertical-align: middle;\n",
       "    }\n",
       "\n",
       "    .dataframe tbody tr th {\n",
       "        vertical-align: top;\n",
       "    }\n",
       "\n",
       "    .dataframe thead th {\n",
       "        text-align: right;\n",
       "    }\n",
       "</style>\n",
       "<table border=\"1\" class=\"dataframe\">\n",
       "  <thead>\n",
       "    <tr style=\"text-align: right;\">\n",
       "      <th></th>\n",
       "      <th>Name</th>\n",
       "      <th>Location</th>\n",
       "      <th>Year</th>\n",
       "      <th>Kilometers_Driven</th>\n",
       "      <th>Fuel_Type</th>\n",
       "      <th>Transmission</th>\n",
       "      <th>Owner_Type</th>\n",
       "      <th>Mileage</th>\n",
       "      <th>Engine</th>\n",
       "      <th>Power</th>\n",
       "      <th>Seats</th>\n",
       "      <th>Price</th>\n",
       "    </tr>\n",
       "  </thead>\n",
       "  <tbody>\n",
       "    <tr>\n",
       "      <th>0</th>\n",
       "      <td>Maruti Alto K10 LXI CNG</td>\n",
       "      <td>Delhi</td>\n",
       "      <td>2014</td>\n",
       "      <td>40929</td>\n",
       "      <td>CNG</td>\n",
       "      <td>Manual</td>\n",
       "      <td>First</td>\n",
       "      <td>26.600000</td>\n",
       "      <td>998.0</td>\n",
       "      <td>58.160000</td>\n",
       "      <td>4.0</td>\n",
       "      <td>3.23990</td>\n",
       "    </tr>\n",
       "    <tr>\n",
       "      <th>1</th>\n",
       "      <td>Maruti Alto 800 2016-2019 LXI</td>\n",
       "      <td>Coimbatore</td>\n",
       "      <td>2013</td>\n",
       "      <td>54493</td>\n",
       "      <td>Petrol</td>\n",
       "      <td>Manual</td>\n",
       "      <td>Second</td>\n",
       "      <td>19.670000</td>\n",
       "      <td>1582.0</td>\n",
       "      <td>126.199997</td>\n",
       "      <td>5.0</td>\n",
       "      <td>5.40980</td>\n",
       "    </tr>\n",
       "    <tr>\n",
       "      <th>2</th>\n",
       "      <td>Toyota Innova Crysta Touring Sport 2.4 MT</td>\n",
       "      <td>Mumbai</td>\n",
       "      <td>2017</td>\n",
       "      <td>34000</td>\n",
       "      <td>Diesel</td>\n",
       "      <td>Manual</td>\n",
       "      <td>First</td>\n",
       "      <td>18.200001</td>\n",
       "      <td>1199.0</td>\n",
       "      <td>88.699997</td>\n",
       "      <td>7.0</td>\n",
       "      <td>7.33830</td>\n",
       "    </tr>\n",
       "    <tr>\n",
       "      <th>4</th>\n",
       "      <td>Hyundai i20 Magna</td>\n",
       "      <td>Mumbai</td>\n",
       "      <td>2014</td>\n",
       "      <td>29000</td>\n",
       "      <td>Petrol</td>\n",
       "      <td>Manual</td>\n",
       "      <td>First</td>\n",
       "      <td>15.200000</td>\n",
       "      <td>1968.0</td>\n",
       "      <td>140.800003</td>\n",
       "      <td>5.0</td>\n",
       "      <td>10.09405</td>\n",
       "    </tr>\n",
       "    <tr>\n",
       "      <th>5</th>\n",
       "      <td>Mahindra XUV500 W8 2WD</td>\n",
       "      <td>Coimbatore</td>\n",
       "      <td>2016</td>\n",
       "      <td>85609</td>\n",
       "      <td>Diesel</td>\n",
       "      <td>Manual</td>\n",
       "      <td>Second</td>\n",
       "      <td>21.100000</td>\n",
       "      <td>814.0</td>\n",
       "      <td>55.200001</td>\n",
       "      <td>7.0</td>\n",
       "      <td>3.09900</td>\n",
       "    </tr>\n",
       "    <tr>\n",
       "      <th>...</th>\n",
       "      <td>...</td>\n",
       "      <td>...</td>\n",
       "      <td>...</td>\n",
       "      <td>...</td>\n",
       "      <td>...</td>\n",
       "      <td>...</td>\n",
       "      <td>...</td>\n",
       "      <td>...</td>\n",
       "      <td>...</td>\n",
       "      <td>...</td>\n",
       "      <td>...</td>\n",
       "      <td>...</td>\n",
       "    </tr>\n",
       "    <tr>\n",
       "      <th>1218</th>\n",
       "      <td>Volkswagen Vento Diesel Trendline</td>\n",
       "      <td>Hyderabad</td>\n",
       "      <td>2011</td>\n",
       "      <td>89411</td>\n",
       "      <td>Diesel</td>\n",
       "      <td>Manual</td>\n",
       "      <td>First</td>\n",
       "      <td>20.540001</td>\n",
       "      <td>1598.0</td>\n",
       "      <td>103.599998</td>\n",
       "      <td>5.0</td>\n",
       "      <td>3.68230</td>\n",
       "    </tr>\n",
       "    <tr>\n",
       "      <th>1219</th>\n",
       "      <td>Volkswagen Polo GT TSI</td>\n",
       "      <td>Mumbai</td>\n",
       "      <td>2015</td>\n",
       "      <td>59000</td>\n",
       "      <td>Petrol</td>\n",
       "      <td>Automatic</td>\n",
       "      <td>First</td>\n",
       "      <td>17.299999</td>\n",
       "      <td>993.0</td>\n",
       "      <td>60.000000</td>\n",
       "      <td>5.0</td>\n",
       "      <td>3.43720</td>\n",
       "    </tr>\n",
       "    <tr>\n",
       "      <th>1220</th>\n",
       "      <td>Nissan Micra Diesel XV</td>\n",
       "      <td>Kolkata</td>\n",
       "      <td>2012</td>\n",
       "      <td>28000</td>\n",
       "      <td>Diesel</td>\n",
       "      <td>Manual</td>\n",
       "      <td>First</td>\n",
       "      <td>16.100000</td>\n",
       "      <td>796.0</td>\n",
       "      <td>37.000000</td>\n",
       "      <td>5.0</td>\n",
       "      <td>2.06730</td>\n",
       "    </tr>\n",
       "    <tr>\n",
       "      <th>1221</th>\n",
       "      <td>Volkswagen Polo GT TSI</td>\n",
       "      <td>Pune</td>\n",
       "      <td>2013</td>\n",
       "      <td>52262</td>\n",
       "      <td>Petrol</td>\n",
       "      <td>Automatic</td>\n",
       "      <td>Third</td>\n",
       "      <td>14.280000</td>\n",
       "      <td>1798.0</td>\n",
       "      <td>138.029999</td>\n",
       "      <td>5.0</td>\n",
       "      <td>7.74470</td>\n",
       "    </tr>\n",
       "    <tr>\n",
       "      <th>1222</th>\n",
       "      <td>Mercedes-Benz E-Class 2009-2013 E 220 CDI Avan...</td>\n",
       "      <td>Kochi</td>\n",
       "      <td>2014</td>\n",
       "      <td>72443</td>\n",
       "      <td>Diesel</td>\n",
       "      <td>Automatic</td>\n",
       "      <td>First</td>\n",
       "      <td>14.590000</td>\n",
       "      <td>1997.0</td>\n",
       "      <td>245.000000</td>\n",
       "      <td>5.0</td>\n",
       "      <td>26.33320</td>\n",
       "    </tr>\n",
       "  </tbody>\n",
       "</table>\n",
       "<p>1048 rows × 12 columns</p>\n",
       "</div>"
      ],
      "text/plain": [
       "                                                   Name    Location  Year  \\\n",
       "0                               Maruti Alto K10 LXI CNG       Delhi  2014   \n",
       "1                         Maruti Alto 800 2016-2019 LXI  Coimbatore  2013   \n",
       "2             Toyota Innova Crysta Touring Sport 2.4 MT      Mumbai  2017   \n",
       "4                                     Hyundai i20 Magna      Mumbai  2014   \n",
       "5                                Mahindra XUV500 W8 2WD  Coimbatore  2016   \n",
       "...                                                 ...         ...   ...   \n",
       "1218                  Volkswagen Vento Diesel Trendline   Hyderabad  2011   \n",
       "1219                             Volkswagen Polo GT TSI      Mumbai  2015   \n",
       "1220                             Nissan Micra Diesel XV     Kolkata  2012   \n",
       "1221                             Volkswagen Polo GT TSI        Pune  2013   \n",
       "1222  Mercedes-Benz E-Class 2009-2013 E 220 CDI Avan...       Kochi  2014   \n",
       "\n",
       "      Kilometers_Driven Fuel_Type Transmission Owner_Type    Mileage  Engine  \\\n",
       "0                 40929       CNG       Manual      First  26.600000   998.0   \n",
       "1                 54493    Petrol       Manual     Second  19.670000  1582.0   \n",
       "2                 34000    Diesel       Manual      First  18.200001  1199.0   \n",
       "4                 29000    Petrol       Manual      First  15.200000  1968.0   \n",
       "5                 85609    Diesel       Manual     Second  21.100000   814.0   \n",
       "...                 ...       ...          ...        ...        ...     ...   \n",
       "1218              89411    Diesel       Manual      First  20.540001  1598.0   \n",
       "1219              59000    Petrol    Automatic      First  17.299999   993.0   \n",
       "1220              28000    Diesel       Manual      First  16.100000   796.0   \n",
       "1221              52262    Petrol    Automatic      Third  14.280000  1798.0   \n",
       "1222              72443    Diesel    Automatic      First  14.590000  1997.0   \n",
       "\n",
       "           Power  Seats     Price  \n",
       "0      58.160000    4.0   3.23990  \n",
       "1     126.199997    5.0   5.40980  \n",
       "2      88.699997    7.0   7.33830  \n",
       "4     140.800003    5.0  10.09405  \n",
       "5      55.200001    7.0   3.09900  \n",
       "...          ...    ...       ...  \n",
       "1218  103.599998    5.0   3.68230  \n",
       "1219   60.000000    5.0   3.43720  \n",
       "1220   37.000000    5.0   2.06730  \n",
       "1221  138.029999    5.0   7.74470  \n",
       "1222  245.000000    5.0  26.33320  \n",
       "\n",
       "[1048 rows x 12 columns]"
      ]
     },
     "execution_count": 129,
     "metadata": {},
     "output_type": "execute_result"
    }
   ],
   "source": [
    "df_test"
   ]
  },
  {
   "cell_type": "code",
   "execution_count": null,
   "metadata": {},
   "outputs": [],
   "source": []
  }
 ],
 "metadata": {
  "kernelspec": {
   "display_name": "Python 3",
   "language": "python",
   "name": "python3"
  },
  "language_info": {
   "codemirror_mode": {
    "name": "ipython",
    "version": 3
   },
   "file_extension": ".py",
   "mimetype": "text/x-python",
   "name": "python",
   "nbconvert_exporter": "python",
   "pygments_lexer": "ipython3",
   "version": "3.11.5"
  }
 },
 "nbformat": 4,
 "nbformat_minor": 4
}
